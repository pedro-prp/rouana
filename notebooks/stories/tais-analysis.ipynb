{
 "cells": [
  {
   "cell_type": "markdown",
   "metadata": {
    "colab_type": "text",
    "id": "kO9wt2g3okLS"
   },
   "source": [
    "# TAIS - MinC\n",
    "![alt text](https://encrypted-tbn0.gstatic.com/images?q=tbn:ANd9GcTaX3LNhGcAe1HnPZSuWS0oH6af0LJHXcH7If1sQgLCFAT1chNGFg)\n",
    "\n",
    "This notebook is going to be the basis for my workshop at the PyData 2018 Amsterdam workshop. If you have any questions, please let me know!\n",
    "\n",
    "You'll build a relatively simple bot, that just asks you about your mood and tries to cheer you up if you're feeling a bit down. \n",
    "\n",
    "The tutorial consists of three parts:\n",
    "\n",
    "\n",
    "*   Part 0: Installation and preparations\n",
    "*   Part 1: You'll start with a basic bot that can only understand natural language but no dialogues.\n",
    "*   Part 2: You'll add the abilitiy to understand multiturn dialogues.\n",
    "*   Part 3: I'll give you further resources so you can extend this simple demo.\n"
   ]
  },
  {
   "cell_type": "markdown",
   "metadata": {},
   "source": [
    "## Part 0: Installation\n",
    "\n",
    "### Let's start with jupyter configuration"
   ]
  },
  {
   "cell_type": "code",
   "execution_count": 1,
   "metadata": {},
   "outputs": [],
   "source": [
    "%matplotlib inline\n",
    "\n",
    "import logging, io, json, warnings\n",
    "logging.basicConfig(level=\"INFO\")\n",
    "warnings.filterwarnings('ignore')\n",
    "\n",
    "def pprint(o):\n",
    "    # small helper to make dict dumps a bit prettier\n",
    "    print(json.dumps(o, indent=2))"
   ]
  },
  {
   "cell_type": "markdown",
   "metadata": {
    "colab_type": "text",
    "id": "y4miuS-TqYcn"
   },
   "source": [
    "### Installation of Rasa\n",
    "First you'll have to install Rasa Core and NLU in this notebook if you already have them installed in your env, you can just skip this. "
   ]
  },
  {
   "cell_type": "code",
   "execution_count": 2,
   "metadata": {
    "colab": {
     "autoexec": {
      "startup": false,
      "wait_interval": 0
     },
     "base_uri": "https://localhost:8080/",
     "height": 3607
    },
    "colab_type": "code",
    "executionInfo": {
     "elapsed": 58315,
     "status": "ok",
     "timestamp": 1521575035242,
     "user": {
      "displayName": "Ricardo Wölker",
      "photoUrl": "https://lh3.googleusercontent.com/a/default-user=s128",
      "userId": "115384113157413623365"
     },
     "user_tz": 0
    },
    "id": "X_2-sKgo_qyl",
    "outputId": "b947c702-75fa-406d-d21d-a691dcb5236d",
    "scrolled": true
   },
   "outputs": [
    {
     "name": "stdout",
     "output_type": "stream",
     "text": [
      "Requirement already satisfied: numpy==1.14.5 in /home/gabibs/.pyenv/versions/3.6.6/lib/python3.6/site-packages (from -r requirements.txt (line 1)) (1.14.5)\n",
      "Requirement already satisfied: sklearn_crfsuite==0.3.6 in /home/gabibs/.pyenv/versions/3.6.6/lib/python3.6/site-packages (from -r requirements.txt (line 2)) (0.3.6)\n",
      "Requirement already satisfied: rocketchat-API==0.6.22 in /home/gabibs/.pyenv/versions/3.6.6/lib/python3.6/site-packages (from -r requirements.txt (line 3)) (0.6.22)\n",
      "Requirement already satisfied: rocketchat-py-sdk==0.0.8 in /home/gabibs/.pyenv/versions/3.6.6/lib/python3.6/site-packages (from -r requirements.txt (line 4)) (0.0.8)\n",
      "Requirement already satisfied: rasa-core==0.11.12 in /home/gabibs/.pyenv/versions/3.6.6/lib/python3.6/site-packages (from -r requirements.txt (line 5)) (0.11.12)\n",
      "Requirement already satisfied: rasa-core-sdk==0.11.5 in /home/gabibs/.pyenv/versions/3.6.6/lib/python3.6/site-packages (from -r requirements.txt (line 6)) (0.11.5)\n",
      "Requirement already satisfied: rasa-nlu==0.13.5 in /home/gabibs/.pyenv/versions/3.6.6/lib/python3.6/site-packages (from -r requirements.txt (line 7)) (0.13.5)\n",
      "Requirement already satisfied: python-crfsuite>=0.8.3 in /home/gabibs/.pyenv/versions/3.6.6/lib/python3.6/site-packages (from sklearn_crfsuite==0.3.6->-r requirements.txt (line 2)) (0.9.6)\n",
      "Requirement already satisfied: tqdm>=2.0 in /home/gabibs/.pyenv/versions/3.6.6/lib/python3.6/site-packages (from sklearn_crfsuite==0.3.6->-r requirements.txt (line 2)) (4.28.1)\n",
      "Requirement already satisfied: six in /home/gabibs/.pyenv/versions/3.6.6/lib/python3.6/site-packages (from sklearn_crfsuite==0.3.6->-r requirements.txt (line 2)) (1.11.0)\n",
      "Requirement already satisfied: tabulate in /home/gabibs/.pyenv/versions/3.6.6/lib/python3.6/site-packages (from sklearn_crfsuite==0.3.6->-r requirements.txt (line 2)) (0.8.2)\n",
      "Requirement already satisfied: requests in /home/gabibs/.pyenv/versions/3.6.6/lib/python3.6/site-packages (from rocketchat-API==0.6.22->-r requirements.txt (line 3)) (2.20.0)\n",
      "Requirement already satisfied: python-ddp==0.1.5 in /home/gabibs/.pyenv/versions/3.6.6/lib/python3.6/site-packages (from rocketchat-py-sdk==0.0.8->-r requirements.txt (line 4)) (0.1.5)\n",
      "Requirement already satisfied: DateTime==4.2 in /home/gabibs/.pyenv/versions/3.6.6/lib/python3.6/site-packages (from rocketchat-py-sdk==0.0.8->-r requirements.txt (line 4)) (4.2)\n",
      "Requirement already satisfied: pyee==5.0.0 in /home/gabibs/.pyenv/versions/3.6.6/lib/python3.6/site-packages (from rocketchat-py-sdk==0.0.8->-r requirements.txt (line 4)) (5.0.0)\n",
      "Requirement already satisfied: flask~=1.0 in /home/gabibs/.pyenv/versions/3.6.6/lib/python3.6/site-packages (from rasa-core==0.11.12->-r requirements.txt (line 5)) (1.0.2)\n",
      "Requirement already satisfied: fakeredis~=0.10.0 in /home/gabibs/.pyenv/versions/3.6.6/lib/python3.6/site-packages (from rasa-core==0.11.12->-r requirements.txt (line 5)) (0.10.3)\n",
      "Requirement already satisfied: colorclass~=2.2 in /home/gabibs/.pyenv/versions/3.6.6/lib/python3.6/site-packages (from rasa-core==0.11.12->-r requirements.txt (line 5)) (2.2.0)\n",
      "Requirement already satisfied: twilio~=6.0 in /home/gabibs/.pyenv/versions/3.6.6/lib/python3.6/site-packages (from rasa-core==0.11.12->-r requirements.txt (line 5)) (6.19.1)\n",
      "Requirement already satisfied: typing~=3.0 in /home/gabibs/.pyenv/versions/3.6.6/lib/python3.6/site-packages (from rasa-core==0.11.12->-r requirements.txt (line 5)) (3.6.6)\n",
      "Requirement already satisfied: graphviz~=0.9.0 in /home/gabibs/.pyenv/versions/3.6.6/lib/python3.6/site-packages (from rasa-core==0.11.12->-r requirements.txt (line 5)) (0.9)\n",
      "Requirement already satisfied: tensorflow==1.10.0 in /home/gabibs/.pyenv/versions/3.6.6/lib/python3.6/site-packages (from rasa-core==0.11.12->-r requirements.txt (line 5)) (1.10.0)\n",
      "Requirement already satisfied: fbmessenger~=5.0 in /home/gabibs/.pyenv/versions/3.6.6/lib/python3.6/site-packages (from rasa-core==0.11.12->-r requirements.txt (line 5)) (5.3.1)\n",
      "Requirement already satisfied: flask-cors~=3.0 in /home/gabibs/.pyenv/versions/3.6.6/lib/python3.6/site-packages (from rasa-core==0.11.12->-r requirements.txt (line 5)) (3.0.6)\n",
      "Requirement already satisfied: scikit-learn~=0.19.0 in /home/gabibs/.pyenv/versions/3.6.6/lib/python3.6/site-packages (from rasa-core==0.11.12->-r requirements.txt (line 5)) (0.19.2)\n",
      "Requirement already satisfied: redis~=2.0 in /home/gabibs/.pyenv/versions/3.6.6/lib/python3.6/site-packages (from rasa-core==0.11.12->-r requirements.txt (line 5)) (2.10.6)\n",
      "Requirement already satisfied: coloredlogs~=10.0 in /home/gabibs/.pyenv/versions/3.6.6/lib/python3.6/site-packages (from rasa-core==0.11.12->-r requirements.txt (line 5)) (10.0)\n",
      "Requirement already satisfied: colorhash~=1.0 in /home/gabibs/.pyenv/versions/3.6.6/lib/python3.6/site-packages (from rasa-core==0.11.12->-r requirements.txt (line 5)) (1.0.2)\n",
      "Requirement already satisfied: pyyaml~=3.12 in /home/gabibs/.pyenv/versions/3.6.6/lib/python3.6/site-packages (from rasa-core==0.11.12->-r requirements.txt (line 5)) (3.13)\n",
      "Requirement already satisfied: python-telegram-bot~=10.0 in /home/gabibs/.pyenv/versions/3.6.6/lib/python3.6/site-packages (from rasa-core==0.11.12->-r requirements.txt (line 5)) (10.1.0)\n",
      "Requirement already satisfied: slackclient~=1.0 in /home/gabibs/.pyenv/versions/3.6.6/lib/python3.6/site-packages (from rasa-core==0.11.12->-r requirements.txt (line 5)) (1.3.0)\n",
      "Requirement already satisfied: networkx~=2.0 in /home/gabibs/.pyenv/versions/3.6.6/lib/python3.6/site-packages (from rasa-core==0.11.12->-r requirements.txt (line 5)) (2.2)\n",
      "Requirement already satisfied: gevent~=1.2 in /home/gabibs/.pyenv/versions/3.6.6/lib/python3.6/site-packages (from rasa-core==0.11.12->-r requirements.txt (line 5)) (1.3.7)\n",
      "Requirement already satisfied: ruamel.yaml~=0.15.0 in /home/gabibs/.pyenv/versions/3.6.6/lib/python3.6/site-packages (from rasa-core==0.11.12->-r requirements.txt (line 5)) (0.15.74)\n",
      "Requirement already satisfied: apscheduler~=3.0 in /home/gabibs/.pyenv/versions/3.6.6/lib/python3.6/site-packages (from rasa-core==0.11.12->-r requirements.txt (line 5)) (3.5.3)\n",
      "Requirement already satisfied: PyInquirer~=1.0 in /home/gabibs/.pyenv/versions/3.6.6/lib/python3.6/site-packages (from rasa-core==0.11.12->-r requirements.txt (line 5)) (1.0.2)\n",
      "Requirement already satisfied: python-socketio~=2.0 in /home/gabibs/.pyenv/versions/3.6.6/lib/python3.6/site-packages (from rasa-core==0.11.12->-r requirements.txt (line 5)) (2.0.0)\n",
      "Requirement already satisfied: pika~=0.11.2 in /home/gabibs/.pyenv/versions/3.6.6/lib/python3.6/site-packages (from rasa-core==0.11.12->-r requirements.txt (line 5)) (0.11.2)\n",
      "Requirement already satisfied: mattermostwrapper~=2.0 in /home/gabibs/.pyenv/versions/3.6.6/lib/python3.6/site-packages (from rasa-core==0.11.12->-r requirements.txt (line 5)) (2.1)\n",
      "Requirement already satisfied: jsonschema~=2.6 in /home/gabibs/.pyenv/versions/3.6.6/lib/python3.6/site-packages (from rasa-core==0.11.12->-r requirements.txt (line 5)) (2.6.0)\n",
      "Requirement already satisfied: jsonpickle~=0.9.0 in /home/gabibs/.pyenv/versions/3.6.6/lib/python3.6/site-packages (from rasa-core==0.11.12->-r requirements.txt (line 5)) (0.9.6)\n",
      "Requirement already satisfied: pykwalify<=1.6.0 in /home/gabibs/.pyenv/versions/3.6.6/lib/python3.6/site-packages (from rasa-core==0.11.12->-r requirements.txt (line 5)) (1.6.0)\n",
      "Requirement already satisfied: python-dateutil~=2.7 in /home/gabibs/.pyenv/versions/3.6.6/lib/python3.6/site-packages (from rasa-core==0.11.12->-r requirements.txt (line 5)) (2.7.5)\n",
      "Requirement already satisfied: pymongo~=3.5 in /home/gabibs/.pyenv/versions/3.6.6/lib/python3.6/site-packages (from rasa-core==0.11.12->-r requirements.txt (line 5)) (3.7.2)\n",
      "Requirement already satisfied: pytz~=2018.4 in /home/gabibs/.pyenv/versions/3.6.6/lib/python3.6/site-packages (from rasa-core==0.11.12->-r requirements.txt (line 5)) (2018.6)\n",
      "Requirement already satisfied: ConfigArgParse~=0.13.0 in /home/gabibs/.pyenv/versions/3.6.6/lib/python3.6/site-packages (from rasa-core==0.11.12->-r requirements.txt (line 5)) (0.13.0)\n",
      "Requirement already satisfied: packaging~=17.0 in /home/gabibs/.pyenv/versions/3.6.6/lib/python3.6/site-packages (from rasa-core==0.11.12->-r requirements.txt (line 5)) (17.1)\n",
      "Requirement already satisfied: h5py~=2.0 in /home/gabibs/.pyenv/versions/3.6.6/lib/python3.6/site-packages (from rasa-core==0.11.12->-r requirements.txt (line 5)) (2.8.0)\n",
      "Requirement already satisfied: future~=0.16 in /home/gabibs/.pyenv/versions/3.6.6/lib/python3.6/site-packages (from rasa-core==0.11.12->-r requirements.txt (line 5)) (0.16.0)\n"
     ]
    },
    {
     "name": "stdout",
     "output_type": "stream",
     "text": [
      "Requirement already satisfied: terminaltables~=3.1 in /home/gabibs/.pyenv/versions/3.6.6/lib/python3.6/site-packages (from rasa-core==0.11.12->-r requirements.txt (line 5)) (3.1.0)\n",
      "Requirement already satisfied: flask-jwt-simple~=0.0.3 in /home/gabibs/.pyenv/versions/3.6.6/lib/python3.6/site-packages (from rasa-core==0.11.12->-r requirements.txt (line 5)) (0.0.3)\n",
      "Requirement already satisfied: keras~=2.0 in /home/gabibs/.pyenv/versions/3.6.6/lib/python3.6/site-packages (from rasa-core==0.11.12->-r requirements.txt (line 5)) (2.2.4)\n",
      "Requirement already satisfied: klein in /home/gabibs/.pyenv/versions/3.6.6/lib/python3.6/site-packages (from rasa-nlu==0.13.5->-r requirements.txt (line 7)) (17.10.0)\n",
      "Requirement already satisfied: boto3 in /home/gabibs/.pyenv/versions/3.6.6/lib/python3.6/site-packages (from rasa-nlu==0.13.5->-r requirements.txt (line 7)) (1.9.30)\n",
      "Requirement already satisfied: simplejson in /home/gabibs/.pyenv/versions/3.6.6/lib/python3.6/site-packages (from rasa-nlu==0.13.5->-r requirements.txt (line 7)) (3.16.0)\n",
      "Requirement already satisfied: pathlib in /home/gabibs/.pyenv/versions/3.6.6/lib/python3.6/site-packages (from rasa-nlu==0.13.5->-r requirements.txt (line 7)) (1.0.1)\n",
      "Requirement already satisfied: cloudpickle in /home/gabibs/.pyenv/versions/3.6.6/lib/python3.6/site-packages (from rasa-nlu==0.13.5->-r requirements.txt (line 7)) (0.6.1)\n",
      "Requirement already satisfied: matplotlib~=2.0 in /home/gabibs/.pyenv/versions/3.6.6/lib/python3.6/site-packages (from rasa-nlu==0.13.5->-r requirements.txt (line 7)) (2.2.3)\n",
      "Requirement already satisfied: certifi>=2017.4.17 in /home/gabibs/.pyenv/versions/3.6.6/lib/python3.6/site-packages (from requests->rocketchat-API==0.6.22->-r requirements.txt (line 3)) (2018.10.15)\n",
      "Requirement already satisfied: urllib3<1.25,>=1.21.1 in /home/gabibs/.pyenv/versions/3.6.6/lib/python3.6/site-packages (from requests->rocketchat-API==0.6.22->-r requirements.txt (line 3)) (1.24)\n",
      "Requirement already satisfied: idna<2.8,>=2.5 in /home/gabibs/.pyenv/versions/3.6.6/lib/python3.6/site-packages (from requests->rocketchat-API==0.6.22->-r requirements.txt (line 3)) (2.7)\n",
      "Requirement already satisfied: chardet<3.1.0,>=3.0.2 in /home/gabibs/.pyenv/versions/3.6.6/lib/python3.6/site-packages (from requests->rocketchat-API==0.6.22->-r requirements.txt (line 3)) (3.0.4)\n",
      "Requirement already satisfied: meteor-ejson in /home/gabibs/.pyenv/versions/3.6.6/lib/python3.6/site-packages (from python-ddp==0.1.5->rocketchat-py-sdk==0.0.8->-r requirements.txt (line 4)) (1.1.0)\n",
      "Requirement already satisfied: ws4py in /home/gabibs/.pyenv/versions/3.6.6/lib/python3.6/site-packages (from python-ddp==0.1.5->rocketchat-py-sdk==0.0.8->-r requirements.txt (line 4)) (0.5.1)\n",
      "Requirement already satisfied: zope.interface in /home/gabibs/.pyenv/versions/3.6.6/lib/python3.6/site-packages (from DateTime==4.2->rocketchat-py-sdk==0.0.8->-r requirements.txt (line 4)) (4.6.0)\n",
      "Requirement already satisfied: Werkzeug>=0.14 in /home/gabibs/.pyenv/versions/3.6.6/lib/python3.6/site-packages (from flask~=1.0->rasa-core==0.11.12->-r requirements.txt (line 5)) (0.14.1)\n",
      "Requirement already satisfied: Jinja2>=2.10 in /home/gabibs/.pyenv/versions/3.6.6/lib/python3.6/site-packages (from flask~=1.0->rasa-core==0.11.12->-r requirements.txt (line 5)) (2.10)\n",
      "Requirement already satisfied: itsdangerous>=0.24 in /home/gabibs/.pyenv/versions/3.6.6/lib/python3.6/site-packages (from flask~=1.0->rasa-core==0.11.12->-r requirements.txt (line 5)) (1.0.0)\n",
      "Requirement already satisfied: click>=5.1 in /home/gabibs/.pyenv/versions/3.6.6/lib/python3.6/site-packages (from flask~=1.0->rasa-core==0.11.12->-r requirements.txt (line 5)) (7.0)\n",
      "Requirement already satisfied: PyJWT>=1.4.2 in /home/gabibs/.pyenv/versions/3.6.6/lib/python3.6/site-packages (from twilio~=6.0->rasa-core==0.11.12->-r requirements.txt (line 5)) (1.6.4)\n",
      "Requirement already satisfied: pysocks; python_version >= \"3.0\" in /home/gabibs/.pyenv/versions/3.6.6/lib/python3.6/site-packages (from twilio~=6.0->rasa-core==0.11.12->-r requirements.txt (line 5)) (1.6.8)\n",
      "Requirement already satisfied: termcolor>=1.1.0 in /home/gabibs/.pyenv/versions/3.6.6/lib/python3.6/site-packages (from tensorflow==1.10.0->rasa-core==0.11.12->-r requirements.txt (line 5)) (1.1.0)\n",
      "Requirement already satisfied: absl-py>=0.1.6 in /home/gabibs/.pyenv/versions/3.6.6/lib/python3.6/site-packages (from tensorflow==1.10.0->rasa-core==0.11.12->-r requirements.txt (line 5)) (0.6.0)\n",
      "Requirement already satisfied: setuptools<=39.1.0 in /home/gabibs/.pyenv/versions/3.6.6/lib/python3.6/site-packages (from tensorflow==1.10.0->rasa-core==0.11.12->-r requirements.txt (line 5)) (39.1.0)\n",
      "Requirement already satisfied: gast>=0.2.0 in /home/gabibs/.pyenv/versions/3.6.6/lib/python3.6/site-packages (from tensorflow==1.10.0->rasa-core==0.11.12->-r requirements.txt (line 5)) (0.2.0)\n",
      "Requirement already satisfied: protobuf>=3.6.0 in /home/gabibs/.pyenv/versions/3.6.6/lib/python3.6/site-packages (from tensorflow==1.10.0->rasa-core==0.11.12->-r requirements.txt (line 5)) (3.6.1)\n",
      "Requirement already satisfied: grpcio>=1.8.6 in /home/gabibs/.pyenv/versions/3.6.6/lib/python3.6/site-packages (from tensorflow==1.10.0->rasa-core==0.11.12->-r requirements.txt (line 5)) (1.16.0)\n",
      "Requirement already satisfied: tensorboard<1.11.0,>=1.10.0 in /home/gabibs/.pyenv/versions/3.6.6/lib/python3.6/site-packages (from tensorflow==1.10.0->rasa-core==0.11.12->-r requirements.txt (line 5)) (1.10.0)\n",
      "Requirement already satisfied: astor>=0.6.0 in /home/gabibs/.pyenv/versions/3.6.6/lib/python3.6/site-packages (from tensorflow==1.10.0->rasa-core==0.11.12->-r requirements.txt (line 5)) (0.7.1)\n",
      "Requirement already satisfied: wheel>=0.26 in /home/gabibs/.pyenv/versions/3.6.6/lib/python3.6/site-packages (from tensorflow==1.10.0->rasa-core==0.11.12->-r requirements.txt (line 5)) (0.32.2)\n",
      "Requirement already satisfied: humanfriendly>=4.7 in /home/gabibs/.pyenv/versions/3.6.6/lib/python3.6/site-packages (from coloredlogs~=10.0->rasa-core==0.11.12->-r requirements.txt (line 5)) (4.17)\n",
      "Requirement already satisfied: websocket-client<1.0a0,>=0.35 in /home/gabibs/.pyenv/versions/3.6.6/lib/python3.6/site-packages (from slackclient~=1.0->rasa-core==0.11.12->-r requirements.txt (line 5)) (0.53.0)\n",
      "Requirement already satisfied: decorator>=4.3.0 in /home/gabibs/.pyenv/versions/3.6.6/lib/python3.6/site-packages (from networkx~=2.0->rasa-core==0.11.12->-r requirements.txt (line 5)) (4.3.0)\n",
      "Requirement already satisfied: greenlet>=0.4.14; platform_python_implementation == \"CPython\" in /home/gabibs/.pyenv/versions/3.6.6/lib/python3.6/site-packages (from gevent~=1.2->rasa-core==0.11.12->-r requirements.txt (line 5)) (0.4.15)\n",
      "Requirement already satisfied: tzlocal>=1.2 in /home/gabibs/.pyenv/versions/3.6.6/lib/python3.6/site-packages (from apscheduler~=3.0->rasa-core==0.11.12->-r requirements.txt (line 5)) (1.5.1)\n",
      "Collecting prompt-toolkit==1.0.14 (from PyInquirer~=1.0->rasa-core==0.11.12->-r requirements.txt (line 5))\n",
      "  Using cached https://files.pythonhosted.org/packages/ee/3d/b25d35a9f0d381dd1c02d8e04b37c353caaaff4bc32150328eeebe4931f5/prompt_toolkit-1.0.14-py3-none-any.whl\n",
      "Requirement already satisfied: Pygments>=2.2.0 in /home/gabibs/.pyenv/versions/3.6.6/lib/python3.6/site-packages (from PyInquirer~=1.0->rasa-core==0.11.12->-r requirements.txt (line 5)) (2.2.0)\n",
      "Requirement already satisfied: regex>=2016.11.21 in /home/gabibs/.pyenv/versions/3.6.6/lib/python3.6/site-packages (from PyInquirer~=1.0->rasa-core==0.11.12->-r requirements.txt (line 5)) (2018.1.10)\n",
      "Requirement already satisfied: python-engineio>=2.2.0 in /home/gabibs/.pyenv/versions/3.6.6/lib/python3.6/site-packages (from python-socketio~=2.0->rasa-core==0.11.12->-r requirements.txt (line 5)) (2.3.2)\n",
      "Requirement already satisfied: docopt>=0.6.2 in /home/gabibs/.pyenv/versions/3.6.6/lib/python3.6/site-packages (from pykwalify<=1.6.0->rasa-core==0.11.12->-r requirements.txt (line 5)) (0.6.2)\n",
      "Requirement already satisfied: pyparsing>=2.0.2 in /home/gabibs/.pyenv/versions/3.6.6/lib/python3.6/site-packages (from packaging~=17.0->rasa-core==0.11.12->-r requirements.txt (line 5)) (2.2.2)\n",
      "Requirement already satisfied: keras-preprocessing>=1.0.5 in /home/gabibs/.pyenv/versions/3.6.6/lib/python3.6/site-packages (from keras~=2.0->rasa-core==0.11.12->-r requirements.txt (line 5)) (1.0.5)\n",
      "Requirement already satisfied: scipy>=0.14 in /home/gabibs/.pyenv/versions/3.6.6/lib/python3.6/site-packages (from keras~=2.0->rasa-core==0.11.12->-r requirements.txt (line 5)) (1.1.0)\n",
      "Requirement already satisfied: keras-applications>=1.0.6 in /home/gabibs/.pyenv/versions/3.6.6/lib/python3.6/site-packages (from keras~=2.0->rasa-core==0.11.12->-r requirements.txt (line 5)) (1.0.6)\n",
      "Requirement already satisfied: incremental in /home/gabibs/.pyenv/versions/3.6.6/lib/python3.6/site-packages (from klein->rasa-nlu==0.13.5->-r requirements.txt (line 7)) (17.5.0)\n",
      "Requirement already satisfied: Twisted>=15.5 in /home/gabibs/.pyenv/versions/3.6.6/lib/python3.6/site-packages (from klein->rasa-nlu==0.13.5->-r requirements.txt (line 7)) (18.9.0)\n"
     ]
    },
    {
     "name": "stdout",
     "output_type": "stream",
     "text": [
      "Requirement already satisfied: botocore<1.13.0,>=1.12.30 in /home/gabibs/.pyenv/versions/3.6.6/lib/python3.6/site-packages (from boto3->rasa-nlu==0.13.5->-r requirements.txt (line 7)) (1.12.30)\n",
      "Requirement already satisfied: s3transfer<0.2.0,>=0.1.10 in /home/gabibs/.pyenv/versions/3.6.6/lib/python3.6/site-packages (from boto3->rasa-nlu==0.13.5->-r requirements.txt (line 7)) (0.1.13)\n",
      "Requirement already satisfied: jmespath<1.0.0,>=0.7.1 in /home/gabibs/.pyenv/versions/3.6.6/lib/python3.6/site-packages (from boto3->rasa-nlu==0.13.5->-r requirements.txt (line 7)) (0.9.3)\n",
      "Requirement already satisfied: kiwisolver>=1.0.1 in /home/gabibs/.pyenv/versions/3.6.6/lib/python3.6/site-packages (from matplotlib~=2.0->rasa-nlu==0.13.5->-r requirements.txt (line 7)) (1.0.1)\n",
      "Requirement already satisfied: cycler>=0.10 in /home/gabibs/.pyenv/versions/3.6.6/lib/python3.6/site-packages (from matplotlib~=2.0->rasa-nlu==0.13.5->-r requirements.txt (line 7)) (0.10.0)\n",
      "Requirement already satisfied: MarkupSafe>=0.23 in /home/gabibs/.pyenv/versions/3.6.6/lib/python3.6/site-packages (from Jinja2>=2.10->flask~=1.0->rasa-core==0.11.12->-r requirements.txt (line 5)) (1.0)\n",
      "Requirement already satisfied: markdown>=2.6.8 in /home/gabibs/.pyenv/versions/3.6.6/lib/python3.6/site-packages (from tensorboard<1.11.0,>=1.10.0->tensorflow==1.10.0->rasa-core==0.11.12->-r requirements.txt (line 5)) (3.0.1)\n",
      "Requirement already satisfied: wcwidth in /home/gabibs/.pyenv/versions/3.6.6/lib/python3.6/site-packages (from prompt-toolkit==1.0.14->PyInquirer~=1.0->rasa-core==0.11.12->-r requirements.txt (line 5)) (0.1.7)\n",
      "Requirement already satisfied: constantly>=15.1 in /home/gabibs/.pyenv/versions/3.6.6/lib/python3.6/site-packages (from Twisted>=15.5->klein->rasa-nlu==0.13.5->-r requirements.txt (line 7)) (15.1.0)\n",
      "Requirement already satisfied: Automat>=0.3.0 in /home/gabibs/.pyenv/versions/3.6.6/lib/python3.6/site-packages (from Twisted>=15.5->klein->rasa-nlu==0.13.5->-r requirements.txt (line 7)) (0.7.0)\n",
      "Requirement already satisfied: hyperlink>=17.1.1 in /home/gabibs/.pyenv/versions/3.6.6/lib/python3.6/site-packages (from Twisted>=15.5->klein->rasa-nlu==0.13.5->-r requirements.txt (line 7)) (18.0.0)\n",
      "Requirement already satisfied: PyHamcrest>=1.9.0 in /home/gabibs/.pyenv/versions/3.6.6/lib/python3.6/site-packages (from Twisted>=15.5->klein->rasa-nlu==0.13.5->-r requirements.txt (line 7)) (1.9.0)\n",
      "Requirement already satisfied: attrs>=17.4.0 in /home/gabibs/.pyenv/versions/3.6.6/lib/python3.6/site-packages (from Twisted>=15.5->klein->rasa-nlu==0.13.5->-r requirements.txt (line 7)) (18.2.0)\n",
      "Requirement already satisfied: docutils>=0.10 in /home/gabibs/.pyenv/versions/3.6.6/lib/python3.6/site-packages (from botocore<1.13.0,>=1.12.30->boto3->rasa-nlu==0.13.5->-r requirements.txt (line 7)) (0.14)\n",
      "\u001b[31mjupyter-console 6.0.0 has requirement prompt-toolkit<2.1.0,>=2.0.0, but you'll have prompt-toolkit 1.0.14 which is incompatible.\u001b[0m\n",
      "\u001b[31mipython 7.1.1 has requirement prompt-toolkit<2.1.0,>=2.0.0, but you'll have prompt-toolkit 1.0.14 which is incompatible.\u001b[0m\n",
      "Installing collected packages: prompt-toolkit\n",
      "  Found existing installation: prompt-toolkit 2.0.7\n",
      "    Uninstalling prompt-toolkit-2.0.7:\n",
      "      Successfully uninstalled prompt-toolkit-2.0.7\n",
      "Successfully installed prompt-toolkit-1.0.14\n"
     ]
    }
   ],
   "source": [
    "import sys\n",
    "python = sys.executable\n",
    "\n",
    "# In your environment run:\n",
    "!{python} -m pip install -r requirements.txt\n"
   ]
  },
  {
   "cell_type": "markdown",
   "metadata": {},
   "source": [
    "Let's check if the correct versions are installed (should be rasa_nlu: 0.12.3 rasa_core: 0.9.0a7) and the spacy model is available:"
   ]
  },
  {
   "cell_type": "code",
   "execution_count": 3,
   "metadata": {},
   "outputs": [
    {
     "name": "stdout",
     "output_type": "stream",
     "text": [
      "rasa_nlu: 0.13.5 rasa_core: 0.11.12\n"
     ]
    }
   ],
   "source": [
    "import rasa_nlu\n",
    "import rasa_core\n",
    "\n",
    "print(\"rasa_nlu: {} rasa_core: {}\".format(rasa_nlu.__version__, rasa_core.__version__))\n"
   ]
  },
  {
   "cell_type": "markdown",
   "metadata": {},
   "source": [
    "### Some additional Tools needed\n",
    "To do some of the visualizations you will also need graphviz. If you don't have graphviz installed, and this doesn't work: don't worry. I'll show you the graph and besides that visualization everything else will work.\n",
    "\n",
    "Try installing with anyone of these (or adapt to your operating system):"
   ]
  },
  {
   "cell_type": "code",
   "execution_count": 4,
   "metadata": {},
   "outputs": [
    {
     "name": "stdout",
     "output_type": "stream",
     "text": [
      "Requirement already satisfied: graphviz in /home/gabibs/.pyenv/versions/3.6.6/lib/python3.6/site-packages (0.9)\r\n"
     ]
    }
   ],
   "source": [
    "!{python} -m pip install graphviz;"
   ]
  },
  {
   "cell_type": "markdown",
   "metadata": {
    "colab_type": "text",
    "id": "1xeXgpdwzOAl"
   },
   "source": [
    "### Train the Rasa NLU Model\n",
    "\n",
    "You're going to train a model to recognise these intents, so that when you send a message like \"hello\" to your bot, it will recognise this as a `\"greet\"` intent."
   ]
  },
  {
   "cell_type": "code",
   "execution_count": 5,
   "metadata": {
    "colab": {
     "autoexec": {
      "startup": false,
      "wait_interval": 0
     },
     "base_uri": "https://localhost:8080/",
     "height": 377
    },
    "colab_type": "code",
    "executionInfo": {
     "elapsed": 2821,
     "status": "ok",
     "timestamp": 1521380062879,
     "user": {
      "displayName": "Alexander Weidauer",
      "photoUrl": "//lh6.googleusercontent.com/-j4xnI5_PFWA/AAAAAAAAAAI/AAAAAAAAAAo/wPT2w5Bl3xg/s50-c-k-no/photo.jpg",
      "userId": "100444450157165144272"
     },
     "user_tz": -60
    },
    "id": "qHsAH49OePcM",
    "outputId": "f840c42d-acf2-4fbf-b439-e5a239ffb32b",
    "scrolled": true
   },
   "outputs": [
    {
     "name": "stderr",
     "output_type": "stream",
     "text": [
      "INFO:rasa_nlu.training_data.loading:Training data format of ../../bot/data/intents/processo.md is md\n",
      "INFO:rasa_nlu.training_data.training_data:Training data stats: \n",
      "\t- intent examples: 347 (14 distinct intents)\n",
      "\t- Found intents: 'processo_aprovacao', 'processo_preenchimento', 'processo', 'processo_definicao_etapas', 'processo_prazo', 'processo_periodo', 'processo_prazo_envio_cnae', 'processo_admissibilidade', 'processo_reativacao_de_proposta', 'processo_como_funciona', 'processo_situacao_processo', 'processo_execucao', 'processo_analise_de_resultados', 'processo_prazo_desistir_recurso'\n",
      "\t- entity examples: 257 (1 distinct entities)\n",
      "\t- found entities: 'situacao_processo'\n",
      "\n",
      "INFO:rasa_nlu.training_data.loading:Training data format of ../../bot/data/intents/general.md is md\n",
      "INFO:rasa_nlu.training_data.training_data:Training data stats: \n",
      "\t- intent examples: 131 (8 distinct intents)\n",
      "\t- Found intents: 'diga_mais', 'afirmar_curiosidades', 'afirmar_projeto', 'out_of_scope', 'despedir', 'cumprimentar', 'negar', 'afirmar'\n",
      "\t- entity examples: 0 (0 distinct entities)\n",
      "\t- found entities: \n",
      "\n",
      "INFO:rasa_nlu.training_data.loading:Training data format of ../../bot/data/intents/captacao.md is md\n",
      "INFO:rasa_nlu.training_data.training_data:Training data stats: \n",
      "\t- intent examples: 42 (3 distinct intents)\n",
      "\t- Found intents: 'captacao', 'captacao_quando_captar', 'captacao_como_captar'\n",
      "\t- entity examples: 0 (0 distinct entities)\n",
      "\t- found entities: \n",
      "\n",
      "INFO:rasa_nlu.training_data.loading:Training data format of ../../bot/data/intents/salic.md is md\n",
      "INFO:rasa_nlu.training_data.training_data:Training data stats: \n",
      "\t- intent examples: 104 (15 distinct intents)\n",
      "\t- Found intents: 'salic_cadastro_usuario', 'salic_erros_achar_proposta', 'salic_preenchimento_cadastro_rubrica_advogado_contador', 'salic_erros_vinculo_cpf_cnpj', 'salic_erros', 'salic_preenchimento_cadastro_agencia_bancaria', 'salic_preenchimento_campo_custo_auditoria', 'salic_preenchimento', 'salic_erros_planilha_desapareceu', 'salic_preenchimento_vinculo_cpf_proposta', 'salic_preenchimento_valor_ingresso', 'salic_erros_salvamento_de_proposta', 'salic', 'salic_recuperacao_de_senha', 'salic_cadastro_proponente'\n",
      "\t- entity examples: 0 (0 distinct entities)\n",
      "\t- found entities: \n",
      "\n",
      "INFO:rasa_nlu.training_data.loading:Training data format of ../../bot/data/intents/lei_rouanet.md is md\n",
      "INFO:rasa_nlu.training_data.training_data:Training data stats: \n",
      "\t- intent examples: 297 (16 distinct intents)\n",
      "\t- Found intents: 'lei_rouanet_denuncia', 'lei_rouanet_o_que_eh', 'lei_rouanet_quem_pode_incentivar', 'lei_rouanet_porcentagem_de_deducao_do_imposto', 'lei_rouanet_origem_do_dinheiro', 'lei_rouanet_beneficios_incentivo_projetos_culturais', 'lei_rouanet', 'lei_rouanet_quem_pode_ser_proponente', 'lei_rouanet_remuneracao_proponente', 'lei_rouanet_valor_maximo_pessoa_juridica', 'lei_rouanet_valor_maximo_pessoa_fisica', 'lei_rouanet_receber_incetivo_de_parentes', 'lei_rouanet_quantidade_de_projetos', 'lei_rouanet_valor_maximo_geral', 'lei_rouanet_valor_maximo_projeto', 'lei_rouanet_comercializacao_de_ingressos'\n",
      "\t- entity examples: 17 (1 distinct entities)\n",
      "\t- found entities: 'lei_rouanet'\n",
      "\n",
      "INFO:rasa_nlu.training_data.loading:Training data format of ../../bot/data/intents/definicoes.md is md\n",
      "INFO:rasa_nlu.training_data.training_data:Training data stats: \n",
      "\t- intent examples: 48 (10 distinct intents)\n",
      "\t- Found intents: 'definicao_proposta', 'definicao_proponente', 'definicao_tais', 'definicao_salic', 'definicao_cnic', 'definicao_sefic', 'definicao_minc', 'definicao_vinculada', 'definicao_projeto', 'definicao'\n",
      "\t- entity examples: 0 (0 distinct entities)\n",
      "\t- found entities: \n",
      "\n",
      "INFO:rasa_nlu.training_data.training_data:Training data stats: \n",
      "\t- intent examples: 969 (66 distinct intents)\n",
      "\t- Found intents: 'processo_prazo', 'salic_preenchimento_campo_custo_auditoria', 'lei_rouanet_porcentagem_de_deducao_do_imposto', 'definicao_sefic', 'captacao', 'salic_preenchimento_valor_ingresso', 'processo_execucao', 'salic_cadastro_usuario', 'salic_erros_vinculo_cpf_cnpj', 'definicao_proposta', 'definicao_proponente', 'afirmar_curiosidades', 'processo_preenchimento', 'lei_rouanet_quem_pode_ser_proponente', 'salic_erros_planilha_desapareceu', 'processo_prazo_envio_cnae', 'definicao', 'lei_rouanet_o_que_eh', 'lei_rouanet_quem_pode_incentivar', 'definicao_minc', 'salic_erros_salvamento_de_proposta', 'salic_cadastro_proponente', 'processo_aprovacao', 'salic_preenchimento_cadastro_agencia_bancaria', 'definicao_salic', 'lei_rouanet_valor_maximo_pessoa_juridica', 'lei_rouanet_valor_maximo_pessoa_fisica', 'captacao_como_captar', 'processo_como_funciona', 'processo_analise_de_resultados', 'lei_rouanet_comercializacao_de_ingressos', 'lei_rouanet_denuncia', 'salic_preenchimento', 'negar', 'lei_rouanet_beneficios_incentivo_projetos_culturais', 'processo_reativacao_de_proposta', 'salic', 'processo_situacao_processo', 'diga_mais', 'lei_rouanet', 'salic_erros', 'lei_rouanet_remuneracao_proponente', 'processo_periodo', 'definicao_vinculada', 'cumprimentar', 'processo_admissibilidade', 'lei_rouanet_valor_maximo_geral', 'afirmar', 'definicao_tais', 'captacao_quando_captar', 'lei_rouanet_origem_do_dinheiro', 'salic_preenchimento_vinculo_cpf_proposta', 'definicao_projeto', 'salic_recuperacao_de_senha', 'out_of_scope', 'processo_prazo_desistir_recurso', 'salic_erros_achar_proposta', 'salic_preenchimento_cadastro_rubrica_advogado_contador', 'processo', 'processo_definicao_etapas', 'afirmar_projeto', 'definicao_cnic', 'despedir', 'lei_rouanet_receber_incetivo_de_parentes', 'lei_rouanet_quantidade_de_projetos', 'lei_rouanet_valor_maximo_projeto'\n",
      "\t- entity examples: 274 (2 distinct entities)\n",
      "\t- found entities: 'lei_rouanet', 'situacao_processo'\n",
      "\n",
      "INFO:rasa_nlu.model:Starting to train component tokenizer_whitespace\n",
      "INFO:rasa_nlu.model:Finished training component.\n",
      "INFO:rasa_nlu.model:Starting to train component ner_crf\n",
      "INFO:rasa_nlu.model:Finished training component.\n",
      "INFO:rasa_nlu.model:Starting to train component ner_synonyms\n",
      "INFO:rasa_nlu.model:Finished training component.\n",
      "INFO:rasa_nlu.model:Starting to train component intent_featurizer_count_vectors\n",
      "INFO:rasa_nlu.model:Finished training component.\n",
      "INFO:rasa_nlu.model:Starting to train component intent_classifier_tensorflow_embedding\n",
      "INFO:rasa_nlu.classifiers.embedding_intent_classifier:Accuracy is updated every 10 epochs\n",
      "Epochs: 100%|██████████| 300/300 [00:46<00:00,  5.21it/s, loss=0.110, acc=0.997]\n",
      "INFO:rasa_nlu.classifiers.embedding_intent_classifier:Finished training embedding policy, loss=0.110, train accuracy=0.997\n",
      "INFO:rasa_nlu.model:Finished training component.\n",
      "INFO:rasa_nlu.model:Successfully saved model into '/home/gabibs/Documentos/lappis/tais/notebooks/stories/models/nlu/default/current'\n"
     ]
    }
   ],
   "source": [
    "import os\n",
    "\n",
    "from rasa_nlu.training_data import load_data\n",
    "from rasa_nlu.model import Trainer\n",
    "from rasa_nlu import config\n",
    "\n",
    "\n",
    "intents_directory = '../../bot/data/intents/'\n",
    "\n",
    "intents = {}\n",
    "\n",
    "for intent_file in os.listdir(intents_directory):\n",
    "    intent_file_path = os.path.join(intents_directory, intent_file)\n",
    "\n",
    "    intents[intent_file] = {}\n",
    "\n",
    "    intent_list = []\n",
    "    intent_name = None\n",
    "\n",
    "    with open(intent_file_path) as f:\n",
    "        lines = f.readlines()\n",
    "\n",
    "        for line in lines:\n",
    "            line = line.strip()\n",
    "\n",
    "            if line.startswith('##'):\n",
    "                if intent_name is not None:\n",
    "                    intents[intent_file][intent_name] = intent_list\n",
    "                intent_name = line.replace('## intent:', '') \n",
    "                intent_list = []\n",
    "\n",
    "            elif line.startswith('- '):\n",
    "                intent_list.append(line.replace('- ', ''))\n",
    "\n",
    "\n",
    "# loading the nlu training samples\n",
    "training_data = load_data(intents_directory)\n",
    "\n",
    "# trainer to educate our pipeline\n",
    "trainer = Trainer(config.load(\"../../bot/nlu_config.yml\"))\n",
    "\n",
    "# train the model!\n",
    "interpreter = trainer.train(training_data)\n",
    "\n",
    "# store it for future use\n",
    "model_directory = trainer.persist(\"./models/nlu\", fixed_model_name=\"current\")"
   ]
  },
  {
   "cell_type": "markdown",
   "metadata": {
    "colab_type": "text",
    "id": "tK5os3OinphP"
   },
   "source": [
    "# Part 2: Adding dialogue capabilities"
   ]
  },
  {
   "cell_type": "markdown",
   "metadata": {
    "colab_type": "text",
    "id": "qWALQbCdwGxK"
   },
   "source": [
    "### Pro Tip: Visualising the Training Data\n",
    "\n",
    "You can visualise the stories to get a sense of how the conversations go. This is usually a good way to see if there are any stories which don't make sense\n"
   ]
  },
  {
   "cell_type": "code",
   "execution_count": 6,
   "metadata": {
    "colab": {
     "autoexec": {
      "startup": false,
      "wait_interval": 0
     },
     "base_uri": "https://localhost:8080/",
     "height": 895
    },
    "colab_type": "code",
    "executionInfo": {
     "elapsed": 2808,
     "status": "ok",
     "timestamp": 1521380138202,
     "user": {
      "displayName": "Alexander Weidauer",
      "photoUrl": "//lh6.googleusercontent.com/-j4xnI5_PFWA/AAAAAAAAAAI/AAAAAAAAAAo/wPT2w5Bl3xg/s50-c-k-no/photo.jpg",
      "userId": "100444450157165144272"
     },
     "user_tz": -60
    },
    "id": "zl6vtV72BDaV",
    "outputId": "2468f1bf-3fd0-42f0-9338-8f48c8cad3dd",
    "scrolled": false
   },
   "outputs": [
    {
     "name": "stderr",
     "output_type": "stream",
     "text": [
      "INFO:apscheduler.scheduler:Scheduler started\n",
      "/home/gabibs/.pyenv/versions/3.6.6/lib/python3.6/site-packages/pykwalify/core.py:99: UnsafeLoaderWarning: \n",
      "The default 'Loader' for 'load(stream)' without further arguments can be unsafe.\n",
      "Use 'load(stream, Loader=ruamel.yaml.Loader)' explicitly if that is OK.\n",
      "Alternatively include the following in your code:\n",
      "\n",
      "  import warnings\n",
      "  warnings.simplefilter('ignore', ruamel.yaml.error.UnsafeLoaderWarning)\n",
      "\n",
      "In most other cases you should consider using 'safe_load(stream)'\n",
      "  data = yaml.load(stream)\n",
      "Processed Story Blocks: 100%|██████████| 11/11 [00:00<00:00, 281.33it/s, # trackers=1]\n",
      "Processed Story Blocks: 100%|██████████| 16/16 [00:00<00:00, 239.22it/s, # trackers=1]\n",
      "Processed Story Blocks: 100%|██████████| 8/8 [00:00<00:00, 289.55it/s, # trackers=1]\n",
      "Processed Story Blocks: 100%|██████████| 2/2 [00:00<00:00, 260.90it/s, # trackers=1]\n",
      "Processed Story Blocks: 100%|██████████| 73/73 [00:00<00:00, 352.56it/s, # trackers=1]\n",
      "Processed Story Blocks: 100%|██████████| 15/15 [00:00<00:00, 261.69it/s, # trackers=1]\n"
     ]
    },
    {
     "name": "stdout",
     "output_type": "stream",
     "text": [
      "Imagens salvas\n"
     ]
    }
   ],
   "source": [
    "from IPython.display import Image\n",
    "from rasa_core.agent import Agent\n",
    "\n",
    "agent = Agent('../../bot/domain.yml')\n",
    "\n",
    "agent.visualize(\"../../bot/data/stories/definicoes.md\", \"story_graph_definicoes.png\", max_history=2)\n",
    "agent.visualize(\"../../bot/data/stories/incentivo.md\", \"story_graph_incentivo.png\", max_history=2)\n",
    "agent.visualize(\"../../bot/data/stories/leirouanet.md\", \"story_graph_leirouanet.png\", max_history=2)\n",
    "agent.visualize(\"../../bot/data/stories/main.md\", \"story_graph_main.png\", max_history=2)\n",
    "agent.visualize(\"../../bot/data/stories/processo.md\", \"story_graph_processo.png\", max_history=2)\n",
    "agent.visualize(\"../../bot/data/stories/salic.md\", \"story_graph_salic.png\", max_history=2)\n",
    "\n",
    "print(\"Imagens salvas\")"
   ]
  },
  {
   "cell_type": "markdown",
   "metadata": {
    "colab_type": "text",
    "id": "zQxY6m6kvlj3"
   },
   "source": [
    "### Training your Dialogue Model\n",
    "\n",
    "Now comes the fun part! We're going to show Rasa Core the stories we wrote above, and train a model on these examples. \n",
    "In this case, the model is a neural network implemented in Keras which learns to predict which action to take next. "
   ]
  },
  {
   "cell_type": "code",
   "execution_count": 7,
   "metadata": {
    "colab": {
     "autoexec": {
      "startup": false,
      "wait_interval": 0
     },
     "base_uri": "https://localhost:8080/",
     "height": 14025
    },
    "colab_type": "code",
    "executionInfo": {
     "elapsed": 12554,
     "status": "ok",
     "timestamp": 1521575068686,
     "user": {
      "displayName": "Ricardo Wölker",
      "photoUrl": "https://lh3.googleusercontent.com/a/default-user=s128",
      "userId": "115384113157413623365"
     },
     "user_tz": 0
    },
    "id": "PKV49d7tAxmS",
    "outputId": "ccb26bea-5be8-48f7-a88e-d70a6e4a1733"
   },
   "outputs": [
    {
     "name": "stderr",
     "output_type": "stream",
     "text": [
      "Processed Story Blocks: 100%|██████████| 125/125 [00:00<00:00, 348.84it/s, # trackers=1]\n",
      "Processed Story Blocks: 100%|██████████| 125/125 [00:01<00:00, 84.01it/s, # trackers=20]\n",
      "Processed Story Blocks: 100%|██████████| 125/125 [00:01<00:00, 81.28it/s, # trackers=19]\n",
      "Processed Story Blocks: 100%|██████████| 125/125 [00:01<00:00, 71.71it/s, # trackers=20]\n",
      "Processed actions: 17179it [00:38, 451.94it/s, # examples=16955]\n",
      "INFO:rasa_core.policies.keras_policy:Fitting model with 17179 total samples and a validation split of 0.0\n"
     ]
    },
    {
     "name": "stdout",
     "output_type": "stream",
     "text": [
      "_________________________________________________________________\n",
      "Layer (type)                 Output Shape              Param #   \n",
      "=================================================================\n",
      "masking (Masking)            (None, 5, 259)            0         \n",
      "_________________________________________________________________\n",
      "lstm (LSTM)                  (None, 32)                37376     \n",
      "_________________________________________________________________\n",
      "dense (Dense)                (None, 125)               4125      \n",
      "_________________________________________________________________\n",
      "activation (Activation)      (None, 125)               0         \n",
      "=================================================================\n",
      "Total params: 41,501\n",
      "Trainable params: 41,501\n",
      "Non-trainable params: 0\n",
      "_________________________________________________________________\n",
      "Epoch 1/400\n",
      "17179/17179 [==============================] - 6s 343us/step - loss: 2.8971 - acc: 0.3798\n",
      "Epoch 2/400\n",
      "17179/17179 [==============================] - 4s 261us/step - loss: 2.1666 - acc: 0.5259\n",
      "Epoch 3/400\n",
      "17179/17179 [==============================] - 4s 257us/step - loss: 1.6817 - acc: 0.5950\n",
      "Epoch 4/400\n",
      "17179/17179 [==============================] - 4s 244us/step - loss: 1.4255 - acc: 0.6693\n",
      "Epoch 5/400\n",
      "17179/17179 [==============================] - 4s 245us/step - loss: 1.1938 - acc: 0.7668\n",
      "Epoch 6/400\n",
      "17179/17179 [==============================] - 4s 243us/step - loss: 0.9904 - acc: 0.8406\n",
      "Epoch 7/400\n",
      "17179/17179 [==============================] - 4s 246us/step - loss: 0.7974 - acc: 0.8934\n",
      "Epoch 8/400\n",
      "17179/17179 [==============================] - 4s 255us/step - loss: 0.6273 - acc: 0.9213\n",
      "Epoch 9/400\n",
      "17179/17179 [==============================] - 4s 247us/step - loss: 0.4930 - acc: 0.9386\n",
      "Epoch 10/400\n",
      "17179/17179 [==============================] - 4s 247us/step - loss: 0.3895 - acc: 0.9531\n",
      "Epoch 11/400\n",
      "17179/17179 [==============================] - 4s 245us/step - loss: 0.3098 - acc: 0.9594\n",
      "Epoch 12/400\n",
      "17179/17179 [==============================] - 4s 244us/step - loss: 0.2549 - acc: 0.9632\n",
      "Epoch 13/400\n",
      "17179/17179 [==============================] - 5s 271us/step - loss: 0.2150 - acc: 0.9650\n",
      "Epoch 14/400\n",
      "17179/17179 [==============================] - 4s 250us/step - loss: 0.1898 - acc: 0.9666\n",
      "Epoch 15/400\n",
      "17179/17179 [==============================] - 4s 249us/step - loss: 0.1648 - acc: 0.9679\n",
      "Epoch 16/400\n",
      "17179/17179 [==============================] - 4s 248us/step - loss: 0.1499 - acc: 0.9705\n",
      "Epoch 17/400\n",
      "17179/17179 [==============================] - 4s 246us/step - loss: 0.1421 - acc: 0.9692\n",
      "Epoch 18/400\n",
      "17179/17179 [==============================] - 4s 244us/step - loss: 0.1265 - acc: 0.9719\n",
      "Epoch 19/400\n",
      "17179/17179 [==============================] - 5s 263us/step - loss: 0.1176 - acc: 0.9743\n",
      "Epoch 20/400\n",
      "17179/17179 [==============================] - 4s 239us/step - loss: 0.1226 - acc: 0.9717\n",
      "Epoch 21/400\n",
      "17179/17179 [==============================] - 4s 243us/step - loss: 0.1087 - acc: 0.9747\n",
      "Epoch 22/400\n",
      "17179/17179 [==============================] - 4s 238us/step - loss: 0.1048 - acc: 0.9749\n",
      "Epoch 23/400\n",
      "17179/17179 [==============================] - 4s 257us/step - loss: 0.1031 - acc: 0.9758\n",
      "Epoch 24/400\n",
      "17179/17179 [==============================] - 5s 282us/step - loss: 0.1012 - acc: 0.9749\n",
      "Epoch 25/400\n",
      "17179/17179 [==============================] - 4s 255us/step - loss: 0.0917 - acc: 0.9774\n",
      "Epoch 26/400\n",
      "17179/17179 [==============================] - 4s 251us/step - loss: 0.0975 - acc: 0.9749\n",
      "Epoch 27/400\n",
      "17179/17179 [==============================] - 4s 255us/step - loss: 0.0913 - acc: 0.9763\n",
      "Epoch 28/400\n",
      "17179/17179 [==============================] - 4s 257us/step - loss: 0.0928 - acc: 0.9751\n",
      "Epoch 29/400\n",
      "17179/17179 [==============================] - 4s 254us/step - loss: 0.0915 - acc: 0.9763\n",
      "Epoch 30/400\n",
      "17179/17179 [==============================] - 4s 258us/step - loss: 0.0831 - acc: 0.9776\n",
      "Epoch 31/400\n",
      "17179/17179 [==============================] - 5s 306us/step - loss: 0.0849 - acc: 0.9768\n",
      "Epoch 32/400\n",
      "17179/17179 [==============================] - 4s 254us/step - loss: 0.0783 - acc: 0.9792\n",
      "Epoch 33/400\n",
      "17179/17179 [==============================] - 4s 260us/step - loss: 0.0803 - acc: 0.9788\n",
      "Epoch 34/400\n",
      "17179/17179 [==============================] - 5s 274us/step - loss: 0.0819 - acc: 0.9769\n",
      "Epoch 35/400\n",
      "17179/17179 [==============================] - 3s 196us/step - loss: 0.0800 - acc: 0.9770\n",
      "Epoch 36/400\n",
      "17179/17179 [==============================] - 3s 198us/step - loss: 0.0775 - acc: 0.9786\n",
      "Epoch 37/400\n",
      "17179/17179 [==============================] - 3s 198us/step - loss: 0.0774 - acc: 0.9786\n",
      "Epoch 38/400\n",
      "17179/17179 [==============================] - 3s 197us/step - loss: 0.0777 - acc: 0.9777\n",
      "Epoch 39/400\n",
      "17179/17179 [==============================] - 4s 205us/step - loss: 0.0781 - acc: 0.9779\n",
      "Epoch 40/400\n",
      "17179/17179 [==============================] - 4s 230us/step - loss: 0.0730 - acc: 0.9788\n",
      "Epoch 41/400\n",
      "17179/17179 [==============================] - 4s 233us/step - loss: 0.0657 - acc: 0.9813\n",
      "Epoch 42/400\n",
      "17179/17179 [==============================] - 4s 230us/step - loss: 0.0788 - acc: 0.9766\n",
      "Epoch 43/400\n",
      "17179/17179 [==============================] - 4s 252us/step - loss: 0.0740 - acc: 0.9785\n",
      "Epoch 44/400\n",
      "17179/17179 [==============================] - 4s 228us/step - loss: 0.0733 - acc: 0.9788\n",
      "Epoch 45/400\n",
      "17179/17179 [==============================] - 3s 194us/step - loss: 0.0754 - acc: 0.9784\n",
      "Epoch 46/400\n",
      "17179/17179 [==============================] - 3s 202us/step - loss: 0.0689 - acc: 0.9813\n",
      "Epoch 47/400\n",
      "17179/17179 [==============================] - 4s 238us/step - loss: 0.0672 - acc: 0.9806\n",
      "Epoch 48/400\n",
      "17179/17179 [==============================] - 4s 227us/step - loss: 0.0724 - acc: 0.9784\n",
      "Epoch 49/400\n",
      "17179/17179 [==============================] - 3s 203us/step - loss: 0.0666 - acc: 0.9803\n",
      "Epoch 50/400\n",
      "17179/17179 [==============================] - 4s 216us/step - loss: 0.0654 - acc: 0.9797\n",
      "Epoch 51/400\n",
      "17179/17179 [==============================] - 4s 204us/step - loss: 0.0700 - acc: 0.9783\n",
      "Epoch 52/400\n",
      "17179/17179 [==============================] - 4s 213us/step - loss: 0.0671 - acc: 0.9808\n",
      "Epoch 53/400\n",
      "17179/17179 [==============================] - 4s 213us/step - loss: 0.0643 - acc: 0.9813\n",
      "Epoch 54/400\n",
      "17179/17179 [==============================] - 3s 199us/step - loss: 0.0647 - acc: 0.9802\n",
      "Epoch 55/400\n",
      "17179/17179 [==============================] - 4s 218us/step - loss: 0.0617 - acc: 0.9816\n",
      "Epoch 56/400\n",
      "17179/17179 [==============================] - 4s 231us/step - loss: 0.0600 - acc: 0.9820\n",
      "Epoch 57/400\n",
      "17179/17179 [==============================] - 5s 319us/step - loss: 0.0687 - acc: 0.9788\n",
      "Epoch 58/400\n",
      "17179/17179 [==============================] - 5s 320us/step - loss: 0.0712 - acc: 0.9788\n",
      "Epoch 59/400\n",
      "10880/17179 [=================>............] - ETA: 1s - loss: 0.0670 - acc: 0.9800"
     ]
    },
    {
     "ename": "KeyboardInterrupt",
     "evalue": "",
     "output_type": "error",
     "traceback": [
      "\u001b[0;31m---------------------------------------------------------------------------\u001b[0m",
      "\u001b[0;31mKeyboardInterrupt\u001b[0m                         Traceback (most recent call last)",
      "\u001b[0;32m<ipython-input-7-8a796b606f84>\u001b[0m in \u001b[0;36m<module>\u001b[0;34m\u001b[0m\n\u001b[1;32m     16\u001b[0m     \u001b[0mtraining_data\u001b[0m\u001b[0;34m,\u001b[0m\u001b[0;34m\u001b[0m\u001b[0m\n\u001b[1;32m     17\u001b[0m     \u001b[0mvalidation_split\u001b[0m\u001b[0;34m=\u001b[0m\u001b[0;36m0.0\u001b[0m\u001b[0;34m,\u001b[0m\u001b[0;34m\u001b[0m\u001b[0m\n\u001b[0;32m---> 18\u001b[0;31m     \u001b[0mepochs\u001b[0m\u001b[0;34m=\u001b[0m\u001b[0;36m400\u001b[0m\u001b[0;34m\u001b[0m\u001b[0m\n\u001b[0m\u001b[1;32m     19\u001b[0m )\n\u001b[1;32m     20\u001b[0m \u001b[0;34m\u001b[0m\u001b[0m\n",
      "\u001b[0;32m~/.pyenv/versions/3.6.6/lib/python3.6/site-packages/rasa_core/agent.py\u001b[0m in \u001b[0;36mtrain\u001b[0;34m(self, training_trackers, **kwargs)\u001b[0m\n\u001b[1;32m    508\u001b[0m \u001b[0;34m\u001b[0m\u001b[0m\n\u001b[1;32m    509\u001b[0m         self.policy_ensemble.train(training_trackers, self.domain,\n\u001b[0;32m--> 510\u001b[0;31m                                    **kwargs)\n\u001b[0m\u001b[1;32m    511\u001b[0m         \u001b[0mself\u001b[0m\u001b[0;34m.\u001b[0m\u001b[0m_set_fingerprint\u001b[0m\u001b[0;34m(\u001b[0m\u001b[0;34m)\u001b[0m\u001b[0;34m\u001b[0m\u001b[0m\n\u001b[1;32m    512\u001b[0m \u001b[0;34m\u001b[0m\u001b[0m\n",
      "\u001b[0;32m~/.pyenv/versions/3.6.6/lib/python3.6/site-packages/rasa_core/policies/ensemble.py\u001b[0m in \u001b[0;36mtrain\u001b[0;34m(self, training_trackers, domain, **kwargs)\u001b[0m\n\u001b[1;32m     64\u001b[0m         \u001b[0;32mif\u001b[0m \u001b[0mtraining_trackers\u001b[0m\u001b[0;34m:\u001b[0m\u001b[0;34m\u001b[0m\u001b[0m\n\u001b[1;32m     65\u001b[0m             \u001b[0;32mfor\u001b[0m \u001b[0mpolicy\u001b[0m \u001b[0;32min\u001b[0m \u001b[0mself\u001b[0m\u001b[0;34m.\u001b[0m\u001b[0mpolicies\u001b[0m\u001b[0;34m:\u001b[0m\u001b[0;34m\u001b[0m\u001b[0m\n\u001b[0;32m---> 66\u001b[0;31m                 \u001b[0mpolicy\u001b[0m\u001b[0;34m.\u001b[0m\u001b[0mtrain\u001b[0m\u001b[0;34m(\u001b[0m\u001b[0mtraining_trackers\u001b[0m\u001b[0;34m,\u001b[0m \u001b[0mdomain\u001b[0m\u001b[0;34m,\u001b[0m \u001b[0;34m**\u001b[0m\u001b[0mkwargs\u001b[0m\u001b[0;34m)\u001b[0m\u001b[0;34m\u001b[0m\u001b[0m\n\u001b[0m\u001b[1;32m     67\u001b[0m             \u001b[0mself\u001b[0m\u001b[0;34m.\u001b[0m\u001b[0mtraining_trackers\u001b[0m \u001b[0;34m=\u001b[0m \u001b[0mtraining_trackers\u001b[0m\u001b[0;34m\u001b[0m\u001b[0m\n\u001b[1;32m     68\u001b[0m         \u001b[0;32melse\u001b[0m\u001b[0;34m:\u001b[0m\u001b[0;34m\u001b[0m\u001b[0m\n",
      "\u001b[0;32m~/.pyenv/versions/3.6.6/lib/python3.6/site-packages/rasa_core/policies/keras_policy.py\u001b[0m in \u001b[0;36mtrain\u001b[0;34m(self, training_trackers, domain, **kwargs)\u001b[0m\n\u001b[1;32m    153\u001b[0m                 \u001b[0mparams\u001b[0m \u001b[0;34m=\u001b[0m \u001b[0mself\u001b[0m\u001b[0;34m.\u001b[0m\u001b[0m_get_valid_params\u001b[0m\u001b[0;34m(\u001b[0m\u001b[0mself\u001b[0m\u001b[0;34m.\u001b[0m\u001b[0mmodel\u001b[0m\u001b[0;34m.\u001b[0m\u001b[0mfit\u001b[0m\u001b[0;34m,\u001b[0m \u001b[0;34m**\u001b[0m\u001b[0mkwargs\u001b[0m\u001b[0;34m)\u001b[0m\u001b[0;34m\u001b[0m\u001b[0m\n\u001b[1;32m    154\u001b[0m \u001b[0;34m\u001b[0m\u001b[0m\n\u001b[0;32m--> 155\u001b[0;31m                 \u001b[0mself\u001b[0m\u001b[0;34m.\u001b[0m\u001b[0mmodel\u001b[0m\u001b[0;34m.\u001b[0m\u001b[0mfit\u001b[0m\u001b[0;34m(\u001b[0m\u001b[0mshuffled_X\u001b[0m\u001b[0;34m,\u001b[0m \u001b[0mshuffled_y\u001b[0m\u001b[0;34m,\u001b[0m \u001b[0;34m**\u001b[0m\u001b[0mparams\u001b[0m\u001b[0;34m)\u001b[0m\u001b[0;34m\u001b[0m\u001b[0m\n\u001b[0m\u001b[1;32m    156\u001b[0m                 \u001b[0;31m# the default parameter for epochs in keras fit is 1\u001b[0m\u001b[0;34m\u001b[0m\u001b[0;34m\u001b[0m\u001b[0m\n\u001b[1;32m    157\u001b[0m                 \u001b[0mself\u001b[0m\u001b[0;34m.\u001b[0m\u001b[0mcurrent_epoch\u001b[0m \u001b[0;34m=\u001b[0m \u001b[0mkwargs\u001b[0m\u001b[0;34m.\u001b[0m\u001b[0mget\u001b[0m\u001b[0;34m(\u001b[0m\u001b[0;34m\"epochs\"\u001b[0m\u001b[0;34m,\u001b[0m \u001b[0;36m1\u001b[0m\u001b[0;34m)\u001b[0m\u001b[0;34m\u001b[0m\u001b[0m\n",
      "\u001b[0;32m~/.pyenv/versions/3.6.6/lib/python3.6/site-packages/tensorflow/python/keras/engine/training.py\u001b[0m in \u001b[0;36mfit\u001b[0;34m(self, x, y, batch_size, epochs, verbose, callbacks, validation_split, validation_data, shuffle, class_weight, sample_weight, initial_epoch, steps_per_epoch, validation_steps, **kwargs)\u001b[0m\n\u001b[1;32m   1361\u001b[0m           \u001b[0minitial_epoch\u001b[0m\u001b[0;34m=\u001b[0m\u001b[0minitial_epoch\u001b[0m\u001b[0;34m,\u001b[0m\u001b[0;34m\u001b[0m\u001b[0m\n\u001b[1;32m   1362\u001b[0m           \u001b[0msteps_per_epoch\u001b[0m\u001b[0;34m=\u001b[0m\u001b[0msteps_per_epoch\u001b[0m\u001b[0;34m,\u001b[0m\u001b[0;34m\u001b[0m\u001b[0m\n\u001b[0;32m-> 1363\u001b[0;31m           validation_steps=validation_steps)\n\u001b[0m\u001b[1;32m   1364\u001b[0m \u001b[0;34m\u001b[0m\u001b[0m\n\u001b[1;32m   1365\u001b[0m   def evaluate(self,\n",
      "\u001b[0;32m~/.pyenv/versions/3.6.6/lib/python3.6/site-packages/tensorflow/python/keras/engine/training_arrays.py\u001b[0m in \u001b[0;36mfit_loop\u001b[0;34m(model, inputs, targets, sample_weights, batch_size, epochs, verbose, callbacks, val_inputs, val_targets, val_sample_weights, shuffle, callback_metrics, initial_epoch, steps_per_epoch, validation_steps)\u001b[0m\n\u001b[1;32m    262\u001b[0m           \u001b[0mins_batch\u001b[0m\u001b[0;34m[\u001b[0m\u001b[0mi\u001b[0m\u001b[0;34m]\u001b[0m \u001b[0;34m=\u001b[0m \u001b[0mins_batch\u001b[0m\u001b[0;34m[\u001b[0m\u001b[0mi\u001b[0m\u001b[0;34m]\u001b[0m\u001b[0;34m.\u001b[0m\u001b[0mtoarray\u001b[0m\u001b[0;34m(\u001b[0m\u001b[0;34m)\u001b[0m\u001b[0;34m\u001b[0m\u001b[0m\n\u001b[1;32m    263\u001b[0m \u001b[0;34m\u001b[0m\u001b[0m\n\u001b[0;32m--> 264\u001b[0;31m         \u001b[0mouts\u001b[0m \u001b[0;34m=\u001b[0m \u001b[0mf\u001b[0m\u001b[0;34m(\u001b[0m\u001b[0mins_batch\u001b[0m\u001b[0;34m)\u001b[0m\u001b[0;34m\u001b[0m\u001b[0m\n\u001b[0m\u001b[1;32m    265\u001b[0m         \u001b[0;32mif\u001b[0m \u001b[0;32mnot\u001b[0m \u001b[0misinstance\u001b[0m\u001b[0;34m(\u001b[0m\u001b[0mouts\u001b[0m\u001b[0;34m,\u001b[0m \u001b[0mlist\u001b[0m\u001b[0;34m)\u001b[0m\u001b[0;34m:\u001b[0m\u001b[0;34m\u001b[0m\u001b[0m\n\u001b[1;32m    266\u001b[0m           \u001b[0mouts\u001b[0m \u001b[0;34m=\u001b[0m \u001b[0;34m[\u001b[0m\u001b[0mouts\u001b[0m\u001b[0;34m]\u001b[0m\u001b[0;34m\u001b[0m\u001b[0m\n",
      "\u001b[0;32m~/.pyenv/versions/3.6.6/lib/python3.6/site-packages/tensorflow/python/keras/backend.py\u001b[0m in \u001b[0;36m__call__\u001b[0;34m(self, inputs)\u001b[0m\n\u001b[1;32m   2912\u001b[0m       \u001b[0mself\u001b[0m\u001b[0;34m.\u001b[0m\u001b[0m_make_callable\u001b[0m\u001b[0;34m(\u001b[0m\u001b[0mfeed_arrays\u001b[0m\u001b[0;34m,\u001b[0m \u001b[0mfeed_symbols\u001b[0m\u001b[0;34m,\u001b[0m \u001b[0msymbol_vals\u001b[0m\u001b[0;34m,\u001b[0m \u001b[0msession\u001b[0m\u001b[0;34m)\u001b[0m\u001b[0;34m\u001b[0m\u001b[0m\n\u001b[1;32m   2913\u001b[0m \u001b[0;34m\u001b[0m\u001b[0m\n\u001b[0;32m-> 2914\u001b[0;31m     \u001b[0mfetched\u001b[0m \u001b[0;34m=\u001b[0m \u001b[0mself\u001b[0m\u001b[0;34m.\u001b[0m\u001b[0m_callable_fn\u001b[0m\u001b[0;34m(\u001b[0m\u001b[0;34m*\u001b[0m\u001b[0marray_vals\u001b[0m\u001b[0;34m)\u001b[0m\u001b[0;34m\u001b[0m\u001b[0m\n\u001b[0m\u001b[1;32m   2915\u001b[0m     \u001b[0mself\u001b[0m\u001b[0;34m.\u001b[0m\u001b[0m_call_fetch_callbacks\u001b[0m\u001b[0;34m(\u001b[0m\u001b[0mfetched\u001b[0m\u001b[0;34m[\u001b[0m\u001b[0;34m-\u001b[0m\u001b[0mlen\u001b[0m\u001b[0;34m(\u001b[0m\u001b[0mself\u001b[0m\u001b[0;34m.\u001b[0m\u001b[0m_fetches\u001b[0m\u001b[0;34m)\u001b[0m\u001b[0;34m:\u001b[0m\u001b[0;34m]\u001b[0m\u001b[0;34m)\u001b[0m\u001b[0;34m\u001b[0m\u001b[0m\n\u001b[1;32m   2916\u001b[0m     \u001b[0;32mreturn\u001b[0m \u001b[0mfetched\u001b[0m\u001b[0;34m[\u001b[0m\u001b[0;34m:\u001b[0m\u001b[0mlen\u001b[0m\u001b[0;34m(\u001b[0m\u001b[0mself\u001b[0m\u001b[0;34m.\u001b[0m\u001b[0moutputs\u001b[0m\u001b[0;34m)\u001b[0m\u001b[0;34m]\u001b[0m\u001b[0;34m\u001b[0m\u001b[0m\n",
      "\u001b[0;32m~/.pyenv/versions/3.6.6/lib/python3.6/site-packages/tensorflow/python/client/session.py\u001b[0m in \u001b[0;36m__call__\u001b[0;34m(self, *args, **kwargs)\u001b[0m\n\u001b[1;32m   1380\u001b[0m           ret = tf_session.TF_SessionRunCallable(\n\u001b[1;32m   1381\u001b[0m               \u001b[0mself\u001b[0m\u001b[0;34m.\u001b[0m\u001b[0m_session\u001b[0m\u001b[0;34m.\u001b[0m\u001b[0m_session\u001b[0m\u001b[0;34m,\u001b[0m \u001b[0mself\u001b[0m\u001b[0;34m.\u001b[0m\u001b[0m_handle\u001b[0m\u001b[0;34m,\u001b[0m \u001b[0margs\u001b[0m\u001b[0;34m,\u001b[0m \u001b[0mstatus\u001b[0m\u001b[0;34m,\u001b[0m\u001b[0;34m\u001b[0m\u001b[0m\n\u001b[0;32m-> 1382\u001b[0;31m               run_metadata_ptr)\n\u001b[0m\u001b[1;32m   1383\u001b[0m         \u001b[0;32mif\u001b[0m \u001b[0mrun_metadata\u001b[0m\u001b[0;34m:\u001b[0m\u001b[0;34m\u001b[0m\u001b[0m\n\u001b[1;32m   1384\u001b[0m           \u001b[0mproto_data\u001b[0m \u001b[0;34m=\u001b[0m \u001b[0mtf_session\u001b[0m\u001b[0;34m.\u001b[0m\u001b[0mTF_GetBuffer\u001b[0m\u001b[0;34m(\u001b[0m\u001b[0mrun_metadata_ptr\u001b[0m\u001b[0;34m)\u001b[0m\u001b[0;34m\u001b[0m\u001b[0m\n",
      "\u001b[0;31mKeyboardInterrupt\u001b[0m: "
     ]
    }
   ],
   "source": [
    "from rasa_core.policies import FallbackPolicy, KerasPolicy, MemoizationPolicy\n",
    "from rasa_core.agent import Agent\n",
    "\n",
    "# this will catch predictions the model isn't very certain about\n",
    "# there is a threshold for the NLU predictions as well as the action predictions\n",
    "fallback = FallbackPolicy(fallback_action_name=\"utter_unclear\",\n",
    "                          core_threshold=0.2,\n",
    "                          nlu_threshold=0.6)\n",
    "\n",
    "agent = Agent('../../bot/domain.yml', policies=[MemoizationPolicy(), KerasPolicy(), fallback])\n",
    "\n",
    "# loading our neatly defined training dialogues\n",
    "training_data = agent.load_data('../../bot/data/stories')\n",
    "\n",
    "agent.train(\n",
    "    training_data,\n",
    "    validation_split=0.0,\n",
    "    epochs=400\n",
    ")\n",
    "\n",
    "agent.persist('models/dialogue')"
   ]
  },
  {
   "cell_type": "markdown",
   "metadata": {
    "colab_type": "text",
    "id": "FSjCEdvlzfSR"
   },
   "source": [
    "### Starting up the bot (with NLU)\n",
    "\n",
    "Now that we've trained the dialogue **and** language understanding models and saved them, we can start up an `Agent` which will handle conversations for us. "
   ]
  },
  {
   "cell_type": "code",
   "execution_count": null,
   "metadata": {
    "colab": {
     "autoexec": {
      "startup": false,
      "wait_interval": 0
     },
     "base_uri": "https://localhost:8080/",
     "height": 34
    },
    "colab_type": "code",
    "executionInfo": {
     "elapsed": 1799,
     "status": "ok",
     "timestamp": 1521380071327,
     "user": {
      "displayName": "Alexander Weidauer",
      "photoUrl": "//lh6.googleusercontent.com/-j4xnI5_PFWA/AAAAAAAAAAI/AAAAAAAAAAo/wPT2w5Bl3xg/s50-c-k-no/photo.jpg",
      "userId": "100444450157165144272"
     },
     "user_tz": -60
    },
    "id": "Ywxs0ljHgkLm",
    "outputId": "e11a8abd-70f6-41c5-ccd1-a7cba7146ce9"
   },
   "outputs": [],
   "source": [
    "from rasa_core.agent import Agent\n",
    "agent = Agent.load('models/dialogue', interpreter=model_directory)"
   ]
  },
  {
   "cell_type": "markdown",
   "metadata": {
    "colab_type": "text",
    "id": "5MnGuFRpzzBh"
   },
   "source": [
    "### Talking to the Bot (with NLU)\n",
    "\n",
    "We can start talking to the bot in natural language."
   ]
  },
  {
   "cell_type": "code",
   "execution_count": null,
   "metadata": {
    "colab": {
     "autoexec": {
      "startup": false,
      "wait_interval": 0
     },
     "base_uri": "https://localhost:8080/",
     "height": 1340
    },
    "colab_type": "code",
    "executionInfo": {
     "elapsed": 57365,
     "status": "error",
     "timestamp": 1521380132537,
     "user": {
      "displayName": "Alexander Weidauer",
      "photoUrl": "//lh6.googleusercontent.com/-j4xnI5_PFWA/AAAAAAAAAAI/AAAAAAAAAAo/wPT2w5Bl3xg/s50-c-k-no/photo.jpg",
      "userId": "100444450157165144272"
     },
     "user_tz": -60
    },
    "id": "t_4zHDsgkbno",
    "outputId": "57473fce-7184-45d1-f2b2-470bfc84244e"
   },
   "outputs": [],
   "source": [
    "print(\"Your bot is ready to talk! Type your messages here or send 'stop'\")\n",
    "while True:\n",
    "    a = input()\n",
    "    if a == 'stop':\n",
    "        break\n",
    "    responses = agent.handle_message(a)\n",
    "    for response in responses:\n",
    "        print(response[\"text\"])\n"
   ]
  },
  {
   "cell_type": "markdown",
   "metadata": {},
   "source": [
    "### Evaluation of the dialogue model\n",
    "As with the NLU model, instead of just subjectively testing the model, we can also evaluate the model on a dataset. You'll be using the training data set again, but usually you'd use a test data set separate from the training data."
   ]
  },
  {
   "cell_type": "code",
   "execution_count": null,
   "metadata": {},
   "outputs": [],
   "source": [
    "from rasa_core.evaluate import run_story_evaluation\n",
    "\n",
    "run_story_evaluation(\"stories.md\", \"models/dialogue\", \n",
    "                     nlu_model_path=None, \n",
    "                     max_stories=None, \n",
    "                     out_file_plot=\"story_eval.pdf\")"
   ]
  },
  {
   "cell_type": "markdown",
   "metadata": {},
   "source": [
    "### Interactive learning\n",
    "Unfortunately, this doesn't work in jupyter yet. Hence, we going to do this on the command line. [The repository](https://github.com/tmbo/rasa-demo-pydata18)  contains a makefile with the instructions to run the interactive learning. So go ahead and run `make interactive` on the commandline (make sure your shell is in the righht virtual env)."
   ]
  },
  {
   "cell_type": "markdown",
   "metadata": {
    "colab_type": "text",
    "id": "m7VUXU6Cn5R-"
   },
   "source": [
    "# Part 3: Next steps\n",
    "\n",
    "Great job! You've built your first bot that uses Machine Learning to manage dialogues. As a next step, we'd suggest you start building your own bot. Here are a few useful links:\n",
    "\n",
    "\n",
    "\n",
    "*   Install the Rasa Stack on your machine [here](https://core.rasa.ai/installation.html)\n",
    "*   Checkout more of the Docs: [NLU](https://nlu.rasa.com) and [Core](https://core.rasa.com)\n",
    "*   Connect to the community in our [Gitter Chat](https://gitter.im/RasaHQ/rasa_core)\n",
    "\n",
    "\n",
    "\n",
    "---\n",
    "\n",
    "\n",
    "\n",
    "\n",
    "*Any feedback for this tutorial?* Please shoot me a mail at tom@rasa.com"
   ]
  }
 ],
 "metadata": {
  "colab": {
   "collapsed_sections": [
    "y4miuS-TqYcn",
    "BBF6Nqi9scQE",
    "Fs3nOUzBsqrG",
    "5MnGuFRpzzBh"
   ],
   "default_view": {},
   "name": "Building a Simple Bot with Rasa Stack - Tutorial",
   "provenance": [
    {
     "file_id": "1GutDkDXmfU-nRzNH7Pxxx8YpdvLUw9LO",
     "timestamp": 1521183725373
    }
   ],
   "toc_visible": true,
   "version": "0.3.2",
   "views": {}
  },
  "kernelspec": {
   "display_name": "Python 3",
   "language": "python",
   "name": "python3"
  },
  "language_info": {
   "codemirror_mode": {
    "name": "ipython",
    "version": 3
   },
   "file_extension": ".py",
   "mimetype": "text/x-python",
   "name": "python",
   "nbconvert_exporter": "python",
   "pygments_lexer": "ipython3",
   "version": "3.6.6"
  }
 },
 "nbformat": 4,
 "nbformat_minor": 1
}
