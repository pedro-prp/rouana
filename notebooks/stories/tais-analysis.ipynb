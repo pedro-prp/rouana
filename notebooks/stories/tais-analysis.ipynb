{
 "cells": [
  {
   "cell_type": "markdown",
   "metadata": {
    "colab_type": "text",
    "id": "kO9wt2g3okLS"
   },
   "source": [
    "# Análise do Fluxo de Histórias\n",
    "\n",
    "Notebook para o auxílio da análise das histórias do chatbot\n"
   ]
  },
  {
   "cell_type": "markdown",
   "metadata": {},
   "source": [
    "## Instalação\n",
    "\n",
    "### Configurando jupyter"
   ]
  },
  {
   "cell_type": "code",
   "execution_count": 1,
   "metadata": {},
   "outputs": [],
   "source": [
    "%matplotlib inline\n",
    "\n",
    "import logging, io, json, warnings\n",
    "logging.basicConfig(level=\"INFO\")\n",
    "warnings.filterwarnings('ignore')\n",
    "\n",
    "def pprint(o):\n",
    "    # small helper to make dict dumps a bit prettier\n",
    "    print(json.dumps(o, indent=2))"
   ]
  },
  {
   "cell_type": "markdown",
   "metadata": {
    "colab_type": "text",
    "id": "y4miuS-TqYcn"
   },
   "source": [
    "### Instalação do rasa\n",
    "\n",
    "Intalando as configurações necessárias a partir do arquivo requirements.txt"
   ]
  },
  {
   "cell_type": "code",
   "execution_count": 2,
   "metadata": {
    "colab": {
     "autoexec": {
      "startup": false,
      "wait_interval": 0
     },
     "base_uri": "https://localhost:8080/",
     "height": 3607
    },
    "colab_type": "code",
    "executionInfo": {
     "elapsed": 58315,
     "status": "ok",
     "timestamp": 1521575035242,
     "user": {
      "displayName": "Ricardo Wölker",
      "photoUrl": "https://lh3.googleusercontent.com/a/default-user=s128",
      "userId": "115384113157413623365"
     },
     "user_tz": 0
    },
    "id": "X_2-sKgo_qyl",
    "outputId": "b947c702-75fa-406d-d21d-a691dcb5236d",
    "scrolled": true
   },
   "outputs": [
    {
     "name": "stdout",
     "output_type": "stream",
     "text": [
      "Requirement already satisfied: numpy==1.14.5 in /home/gabibs/.pyenv/versions/3.6.6/lib/python3.6/site-packages (from -r requirements.txt (line 1)) (1.14.5)\n",
      "Requirement already satisfied: sklearn_crfsuite==0.3.6 in /home/gabibs/.pyenv/versions/3.6.6/lib/python3.6/site-packages (from -r requirements.txt (line 2)) (0.3.6)\n",
      "Requirement already satisfied: rocketchat-API==0.6.22 in /home/gabibs/.pyenv/versions/3.6.6/lib/python3.6/site-packages (from -r requirements.txt (line 3)) (0.6.22)\n",
      "Requirement already satisfied: rocketchat-py-sdk==0.0.8 in /home/gabibs/.pyenv/versions/3.6.6/lib/python3.6/site-packages (from -r requirements.txt (line 4)) (0.0.8)\n",
      "Requirement already satisfied: rasa-core==0.11.12 in /home/gabibs/.pyenv/versions/3.6.6/lib/python3.6/site-packages (from -r requirements.txt (line 5)) (0.11.12)\n",
      "Requirement already satisfied: rasa-core-sdk==0.11.5 in /home/gabibs/.pyenv/versions/3.6.6/lib/python3.6/site-packages (from -r requirements.txt (line 6)) (0.11.5)\n",
      "Requirement already satisfied: rasa-nlu==0.13.5 in /home/gabibs/.pyenv/versions/3.6.6/lib/python3.6/site-packages (from -r requirements.txt (line 7)) (0.13.5)\n",
      "Requirement already satisfied: tabulate in /home/gabibs/.pyenv/versions/3.6.6/lib/python3.6/site-packages (from sklearn_crfsuite==0.3.6->-r requirements.txt (line 2)) (0.8.2)\n",
      "Requirement already satisfied: tqdm>=2.0 in /home/gabibs/.pyenv/versions/3.6.6/lib/python3.6/site-packages (from sklearn_crfsuite==0.3.6->-r requirements.txt (line 2)) (4.28.1)\n",
      "Requirement already satisfied: six in /home/gabibs/.pyenv/versions/3.6.6/lib/python3.6/site-packages (from sklearn_crfsuite==0.3.6->-r requirements.txt (line 2)) (1.11.0)\n",
      "Requirement already satisfied: python-crfsuite>=0.8.3 in /home/gabibs/.pyenv/versions/3.6.6/lib/python3.6/site-packages (from sklearn_crfsuite==0.3.6->-r requirements.txt (line 2)) (0.9.6)\n",
      "Requirement already satisfied: requests in /home/gabibs/.pyenv/versions/3.6.6/lib/python3.6/site-packages (from rocketchat-API==0.6.22->-r requirements.txt (line 3)) (2.20.0)\n",
      "Requirement already satisfied: python-ddp==0.1.5 in /home/gabibs/.pyenv/versions/3.6.6/lib/python3.6/site-packages (from rocketchat-py-sdk==0.0.8->-r requirements.txt (line 4)) (0.1.5)\n",
      "Requirement already satisfied: DateTime==4.2 in /home/gabibs/.pyenv/versions/3.6.6/lib/python3.6/site-packages (from rocketchat-py-sdk==0.0.8->-r requirements.txt (line 4)) (4.2)\n",
      "Requirement already satisfied: pyee==5.0.0 in /home/gabibs/.pyenv/versions/3.6.6/lib/python3.6/site-packages (from rocketchat-py-sdk==0.0.8->-r requirements.txt (line 4)) (5.0.0)\n",
      "Requirement already satisfied: colorclass~=2.2 in /home/gabibs/.pyenv/versions/3.6.6/lib/python3.6/site-packages (from rasa-core==0.11.12->-r requirements.txt (line 5)) (2.2.0)\n",
      "Requirement already satisfied: future~=0.16 in /home/gabibs/.pyenv/versions/3.6.6/lib/python3.6/site-packages (from rasa-core==0.11.12->-r requirements.txt (line 5)) (0.16.0)\n",
      "Requirement already satisfied: redis~=2.0 in /home/gabibs/.pyenv/versions/3.6.6/lib/python3.6/site-packages (from rasa-core==0.11.12->-r requirements.txt (line 5)) (2.10.6)\n",
      "Requirement already satisfied: graphviz~=0.9.0 in /home/gabibs/.pyenv/versions/3.6.6/lib/python3.6/site-packages (from rasa-core==0.11.12->-r requirements.txt (line 5)) (0.9)\n",
      "Requirement already satisfied: h5py~=2.0 in /home/gabibs/.pyenv/versions/3.6.6/lib/python3.6/site-packages (from rasa-core==0.11.12->-r requirements.txt (line 5)) (2.8.0)\n",
      "Requirement already satisfied: terminaltables~=3.1 in /home/gabibs/.pyenv/versions/3.6.6/lib/python3.6/site-packages (from rasa-core==0.11.12->-r requirements.txt (line 5)) (3.1.0)\n",
      "Requirement already satisfied: pykwalify<=1.6.0 in /home/gabibs/.pyenv/versions/3.6.6/lib/python3.6/site-packages (from rasa-core==0.11.12->-r requirements.txt (line 5)) (1.6.0)\n",
      "Requirement already satisfied: coloredlogs~=10.0 in /home/gabibs/.pyenv/versions/3.6.6/lib/python3.6/site-packages (from rasa-core==0.11.12->-r requirements.txt (line 5)) (10.0)\n",
      "Requirement already satisfied: pika~=0.11.2 in /home/gabibs/.pyenv/versions/3.6.6/lib/python3.6/site-packages (from rasa-core==0.11.12->-r requirements.txt (line 5)) (0.11.2)\n",
      "Requirement already satisfied: python-telegram-bot~=10.0 in /home/gabibs/.pyenv/versions/3.6.6/lib/python3.6/site-packages (from rasa-core==0.11.12->-r requirements.txt (line 5)) (10.1.0)\n",
      "Requirement already satisfied: scikit-learn~=0.19.0 in /home/gabibs/.pyenv/versions/3.6.6/lib/python3.6/site-packages (from rasa-core==0.11.12->-r requirements.txt (line 5)) (0.19.2)\n",
      "Requirement already satisfied: typing~=3.0 in /home/gabibs/.pyenv/versions/3.6.6/lib/python3.6/site-packages (from rasa-core==0.11.12->-r requirements.txt (line 5)) (3.6.6)\n",
      "Requirement already satisfied: pytz~=2018.4 in /home/gabibs/.pyenv/versions/3.6.6/lib/python3.6/site-packages (from rasa-core==0.11.12->-r requirements.txt (line 5)) (2018.6)\n",
      "Requirement already satisfied: python-dateutil~=2.7 in /home/gabibs/.pyenv/versions/3.6.6/lib/python3.6/site-packages (from rasa-core==0.11.12->-r requirements.txt (line 5)) (2.7.5)\n",
      "Requirement already satisfied: mattermostwrapper~=2.0 in /home/gabibs/.pyenv/versions/3.6.6/lib/python3.6/site-packages (from rasa-core==0.11.12->-r requirements.txt (line 5)) (2.1)\n",
      "Requirement already satisfied: fbmessenger~=5.0 in /home/gabibs/.pyenv/versions/3.6.6/lib/python3.6/site-packages (from rasa-core==0.11.12->-r requirements.txt (line 5)) (5.3.1)\n",
      "Requirement already satisfied: ConfigArgParse~=0.13.0 in /home/gabibs/.pyenv/versions/3.6.6/lib/python3.6/site-packages (from rasa-core==0.11.12->-r requirements.txt (line 5)) (0.13.0)\n",
      "Requirement already satisfied: jsonpickle~=0.9.0 in /home/gabibs/.pyenv/versions/3.6.6/lib/python3.6/site-packages (from rasa-core==0.11.12->-r requirements.txt (line 5)) (0.9.6)\n",
      "Requirement already satisfied: tensorflow==1.10.0 in /home/gabibs/.pyenv/versions/3.6.6/lib/python3.6/site-packages (from rasa-core==0.11.12->-r requirements.txt (line 5)) (1.10.0)\n",
      "Requirement already satisfied: PyInquirer~=1.0 in /home/gabibs/.pyenv/versions/3.6.6/lib/python3.6/site-packages (from rasa-core==0.11.12->-r requirements.txt (line 5)) (1.0.2)\n",
      "Requirement already satisfied: apscheduler~=3.0 in /home/gabibs/.pyenv/versions/3.6.6/lib/python3.6/site-packages (from rasa-core==0.11.12->-r requirements.txt (line 5)) (3.5.3)\n",
      "Requirement already satisfied: networkx~=2.0 in /home/gabibs/.pyenv/versions/3.6.6/lib/python3.6/site-packages (from rasa-core==0.11.12->-r requirements.txt (line 5)) (2.2)\n",
      "Requirement already satisfied: slackclient~=1.0 in /home/gabibs/.pyenv/versions/3.6.6/lib/python3.6/site-packages (from rasa-core==0.11.12->-r requirements.txt (line 5)) (1.3.0)\n",
      "Requirement already satisfied: ruamel.yaml~=0.15.0 in /home/gabibs/.pyenv/versions/3.6.6/lib/python3.6/site-packages (from rasa-core==0.11.12->-r requirements.txt (line 5)) (0.15.74)\n",
      "Requirement already satisfied: python-socketio~=2.0 in /home/gabibs/.pyenv/versions/3.6.6/lib/python3.6/site-packages (from rasa-core==0.11.12->-r requirements.txt (line 5)) (2.0.0)\n",
      "Requirement already satisfied: gevent~=1.2 in /home/gabibs/.pyenv/versions/3.6.6/lib/python3.6/site-packages (from rasa-core==0.11.12->-r requirements.txt (line 5)) (1.3.7)\n",
      "Requirement already satisfied: pymongo~=3.5 in /home/gabibs/.pyenv/versions/3.6.6/lib/python3.6/site-packages (from rasa-core==0.11.12->-r requirements.txt (line 5)) (3.7.2)\n",
      "Requirement already satisfied: twilio~=6.0 in /home/gabibs/.pyenv/versions/3.6.6/lib/python3.6/site-packages (from rasa-core==0.11.12->-r requirements.txt (line 5)) (6.19.1)\n",
      "Requirement already satisfied: flask~=1.0 in /home/gabibs/.pyenv/versions/3.6.6/lib/python3.6/site-packages (from rasa-core==0.11.12->-r requirements.txt (line 5)) (1.0.2)\n",
      "Requirement already satisfied: flask-jwt-simple~=0.0.3 in /home/gabibs/.pyenv/versions/3.6.6/lib/python3.6/site-packages (from rasa-core==0.11.12->-r requirements.txt (line 5)) (0.0.3)\n",
      "Requirement already satisfied: fakeredis~=0.10.0 in /home/gabibs/.pyenv/versions/3.6.6/lib/python3.6/site-packages (from rasa-core==0.11.12->-r requirements.txt (line 5)) (0.10.3)\n",
      "Requirement already satisfied: colorhash~=1.0 in /home/gabibs/.pyenv/versions/3.6.6/lib/python3.6/site-packages (from rasa-core==0.11.12->-r requirements.txt (line 5)) (1.0.2)\n",
      "Requirement already satisfied: jsonschema~=2.6 in /home/gabibs/.pyenv/versions/3.6.6/lib/python3.6/site-packages (from rasa-core==0.11.12->-r requirements.txt (line 5)) (2.6.0)\n",
      "Requirement already satisfied: flask-cors~=3.0 in /home/gabibs/.pyenv/versions/3.6.6/lib/python3.6/site-packages (from rasa-core==0.11.12->-r requirements.txt (line 5)) (3.0.6)\n",
      "Requirement already satisfied: keras~=2.0 in /home/gabibs/.pyenv/versions/3.6.6/lib/python3.6/site-packages (from rasa-core==0.11.12->-r requirements.txt (line 5)) (2.2.4)\n",
      "Requirement already satisfied: pyyaml~=3.12 in /home/gabibs/.pyenv/versions/3.6.6/lib/python3.6/site-packages (from rasa-core==0.11.12->-r requirements.txt (line 5)) (3.13)\n",
      "Requirement already satisfied: packaging~=17.0 in /home/gabibs/.pyenv/versions/3.6.6/lib/python3.6/site-packages (from rasa-core==0.11.12->-r requirements.txt (line 5)) (17.1)\n",
      "Requirement already satisfied: matplotlib~=2.0 in /home/gabibs/.pyenv/versions/3.6.6/lib/python3.6/site-packages (from rasa-nlu==0.13.5->-r requirements.txt (line 7)) (2.2.3)\n",
      "Requirement already satisfied: simplejson in /home/gabibs/.pyenv/versions/3.6.6/lib/python3.6/site-packages (from rasa-nlu==0.13.5->-r requirements.txt (line 7)) (3.16.0)\n"
     ]
    },
    {
     "name": "stdout",
     "output_type": "stream",
     "text": [
      "Requirement already satisfied: boto3 in /home/gabibs/.pyenv/versions/3.6.6/lib/python3.6/site-packages (from rasa-nlu==0.13.5->-r requirements.txt (line 7)) (1.9.30)\n",
      "Requirement already satisfied: klein in /home/gabibs/.pyenv/versions/3.6.6/lib/python3.6/site-packages (from rasa-nlu==0.13.5->-r requirements.txt (line 7)) (17.10.0)\n",
      "Requirement already satisfied: pathlib in /home/gabibs/.pyenv/versions/3.6.6/lib/python3.6/site-packages (from rasa-nlu==0.13.5->-r requirements.txt (line 7)) (1.0.1)\n",
      "Requirement already satisfied: cloudpickle in /home/gabibs/.pyenv/versions/3.6.6/lib/python3.6/site-packages (from rasa-nlu==0.13.5->-r requirements.txt (line 7)) (0.6.1)\n",
      "Requirement already satisfied: idna<2.8,>=2.5 in /home/gabibs/.pyenv/versions/3.6.6/lib/python3.6/site-packages (from requests->rocketchat-API==0.6.22->-r requirements.txt (line 3)) (2.7)\n",
      "Requirement already satisfied: urllib3<1.25,>=1.21.1 in /home/gabibs/.pyenv/versions/3.6.6/lib/python3.6/site-packages (from requests->rocketchat-API==0.6.22->-r requirements.txt (line 3)) (1.24)\n",
      "Requirement already satisfied: certifi>=2017.4.17 in /home/gabibs/.pyenv/versions/3.6.6/lib/python3.6/site-packages (from requests->rocketchat-API==0.6.22->-r requirements.txt (line 3)) (2018.10.15)\n",
      "Requirement already satisfied: chardet<3.1.0,>=3.0.2 in /home/gabibs/.pyenv/versions/3.6.6/lib/python3.6/site-packages (from requests->rocketchat-API==0.6.22->-r requirements.txt (line 3)) (3.0.4)\n",
      "Requirement already satisfied: meteor-ejson in /home/gabibs/.pyenv/versions/3.6.6/lib/python3.6/site-packages (from python-ddp==0.1.5->rocketchat-py-sdk==0.0.8->-r requirements.txt (line 4)) (1.1.0)\n",
      "Requirement already satisfied: ws4py in /home/gabibs/.pyenv/versions/3.6.6/lib/python3.6/site-packages (from python-ddp==0.1.5->rocketchat-py-sdk==0.0.8->-r requirements.txt (line 4)) (0.5.1)\n",
      "Requirement already satisfied: zope.interface in /home/gabibs/.pyenv/versions/3.6.6/lib/python3.6/site-packages (from DateTime==4.2->rocketchat-py-sdk==0.0.8->-r requirements.txt (line 4)) (4.6.0)\n",
      "Requirement already satisfied: docopt>=0.6.2 in /home/gabibs/.pyenv/versions/3.6.6/lib/python3.6/site-packages (from pykwalify<=1.6.0->rasa-core==0.11.12->-r requirements.txt (line 5)) (0.6.2)\n",
      "Requirement already satisfied: humanfriendly>=4.7 in /home/gabibs/.pyenv/versions/3.6.6/lib/python3.6/site-packages (from coloredlogs~=10.0->rasa-core==0.11.12->-r requirements.txt (line 5)) (4.17)\n",
      "Requirement already satisfied: gast>=0.2.0 in /home/gabibs/.pyenv/versions/3.6.6/lib/python3.6/site-packages (from tensorflow==1.10.0->rasa-core==0.11.12->-r requirements.txt (line 5)) (0.2.0)\n",
      "Requirement already satisfied: tensorboard<1.11.0,>=1.10.0 in /home/gabibs/.pyenv/versions/3.6.6/lib/python3.6/site-packages (from tensorflow==1.10.0->rasa-core==0.11.12->-r requirements.txt (line 5)) (1.10.0)\n",
      "Requirement already satisfied: grpcio>=1.8.6 in /home/gabibs/.pyenv/versions/3.6.6/lib/python3.6/site-packages (from tensorflow==1.10.0->rasa-core==0.11.12->-r requirements.txt (line 5)) (1.16.0)\n",
      "Requirement already satisfied: astor>=0.6.0 in /home/gabibs/.pyenv/versions/3.6.6/lib/python3.6/site-packages (from tensorflow==1.10.0->rasa-core==0.11.12->-r requirements.txt (line 5)) (0.7.1)\n",
      "Requirement already satisfied: absl-py>=0.1.6 in /home/gabibs/.pyenv/versions/3.6.6/lib/python3.6/site-packages (from tensorflow==1.10.0->rasa-core==0.11.12->-r requirements.txt (line 5)) (0.6.0)\n",
      "Requirement already satisfied: wheel>=0.26 in /home/gabibs/.pyenv/versions/3.6.6/lib/python3.6/site-packages (from tensorflow==1.10.0->rasa-core==0.11.12->-r requirements.txt (line 5)) (0.32.2)\n",
      "Requirement already satisfied: setuptools<=39.1.0 in /home/gabibs/.pyenv/versions/3.6.6/lib/python3.6/site-packages (from tensorflow==1.10.0->rasa-core==0.11.12->-r requirements.txt (line 5)) (39.1.0)\n",
      "Requirement already satisfied: termcolor>=1.1.0 in /home/gabibs/.pyenv/versions/3.6.6/lib/python3.6/site-packages (from tensorflow==1.10.0->rasa-core==0.11.12->-r requirements.txt (line 5)) (1.1.0)\n",
      "Requirement already satisfied: protobuf>=3.6.0 in /home/gabibs/.pyenv/versions/3.6.6/lib/python3.6/site-packages (from tensorflow==1.10.0->rasa-core==0.11.12->-r requirements.txt (line 5)) (3.6.1)\n",
      "Requirement already satisfied: Pygments>=2.2.0 in /home/gabibs/.pyenv/versions/3.6.6/lib/python3.6/site-packages (from PyInquirer~=1.0->rasa-core==0.11.12->-r requirements.txt (line 5)) (2.2.0)\n",
      "Collecting prompt-toolkit==1.0.14 (from PyInquirer~=1.0->rasa-core==0.11.12->-r requirements.txt (line 5))\n",
      "  Using cached https://files.pythonhosted.org/packages/ee/3d/b25d35a9f0d381dd1c02d8e04b37c353caaaff4bc32150328eeebe4931f5/prompt_toolkit-1.0.14-py3-none-any.whl\n",
      "Requirement already satisfied: regex>=2016.11.21 in /home/gabibs/.pyenv/versions/3.6.6/lib/python3.6/site-packages (from PyInquirer~=1.0->rasa-core==0.11.12->-r requirements.txt (line 5)) (2018.1.10)\n",
      "Requirement already satisfied: tzlocal>=1.2 in /home/gabibs/.pyenv/versions/3.6.6/lib/python3.6/site-packages (from apscheduler~=3.0->rasa-core==0.11.12->-r requirements.txt (line 5)) (1.5.1)\n",
      "Requirement already satisfied: decorator>=4.3.0 in /home/gabibs/.pyenv/versions/3.6.6/lib/python3.6/site-packages (from networkx~=2.0->rasa-core==0.11.12->-r requirements.txt (line 5)) (4.3.0)\n",
      "Requirement already satisfied: websocket-client<1.0a0,>=0.35 in /home/gabibs/.pyenv/versions/3.6.6/lib/python3.6/site-packages (from slackclient~=1.0->rasa-core==0.11.12->-r requirements.txt (line 5)) (0.53.0)\n",
      "Requirement already satisfied: python-engineio>=2.2.0 in /home/gabibs/.pyenv/versions/3.6.6/lib/python3.6/site-packages (from python-socketio~=2.0->rasa-core==0.11.12->-r requirements.txt (line 5)) (2.3.2)\n",
      "Requirement already satisfied: greenlet>=0.4.14; platform_python_implementation == \"CPython\" in /home/gabibs/.pyenv/versions/3.6.6/lib/python3.6/site-packages (from gevent~=1.2->rasa-core==0.11.12->-r requirements.txt (line 5)) (0.4.15)\n",
      "Requirement already satisfied: pysocks; python_version >= \"3.0\" in /home/gabibs/.pyenv/versions/3.6.6/lib/python3.6/site-packages (from twilio~=6.0->rasa-core==0.11.12->-r requirements.txt (line 5)) (1.6.8)\n",
      "Requirement already satisfied: PyJWT>=1.4.2 in /home/gabibs/.pyenv/versions/3.6.6/lib/python3.6/site-packages (from twilio~=6.0->rasa-core==0.11.12->-r requirements.txt (line 5)) (1.6.4)\n",
      "Requirement already satisfied: Werkzeug>=0.14 in /home/gabibs/.pyenv/versions/3.6.6/lib/python3.6/site-packages (from flask~=1.0->rasa-core==0.11.12->-r requirements.txt (line 5)) (0.14.1)\n",
      "Requirement already satisfied: Jinja2>=2.10 in /home/gabibs/.pyenv/versions/3.6.6/lib/python3.6/site-packages (from flask~=1.0->rasa-core==0.11.12->-r requirements.txt (line 5)) (2.10)\n",
      "Requirement already satisfied: click>=5.1 in /home/gabibs/.pyenv/versions/3.6.6/lib/python3.6/site-packages (from flask~=1.0->rasa-core==0.11.12->-r requirements.txt (line 5)) (7.0)\n",
      "Requirement already satisfied: itsdangerous>=0.24 in /home/gabibs/.pyenv/versions/3.6.6/lib/python3.6/site-packages (from flask~=1.0->rasa-core==0.11.12->-r requirements.txt (line 5)) (1.0.0)\n",
      "Requirement already satisfied: keras-preprocessing>=1.0.5 in /home/gabibs/.pyenv/versions/3.6.6/lib/python3.6/site-packages (from keras~=2.0->rasa-core==0.11.12->-r requirements.txt (line 5)) (1.0.5)\n",
      "Requirement already satisfied: keras-applications>=1.0.6 in /home/gabibs/.pyenv/versions/3.6.6/lib/python3.6/site-packages (from keras~=2.0->rasa-core==0.11.12->-r requirements.txt (line 5)) (1.0.6)\n",
      "Requirement already satisfied: scipy>=0.14 in /home/gabibs/.pyenv/versions/3.6.6/lib/python3.6/site-packages (from keras~=2.0->rasa-core==0.11.12->-r requirements.txt (line 5)) (1.1.0)\n",
      "Requirement already satisfied: pyparsing>=2.0.2 in /home/gabibs/.pyenv/versions/3.6.6/lib/python3.6/site-packages (from packaging~=17.0->rasa-core==0.11.12->-r requirements.txt (line 5)) (2.2.2)\n",
      "Requirement already satisfied: cycler>=0.10 in /home/gabibs/.pyenv/versions/3.6.6/lib/python3.6/site-packages (from matplotlib~=2.0->rasa-nlu==0.13.5->-r requirements.txt (line 7)) (0.10.0)\n",
      "Requirement already satisfied: kiwisolver>=1.0.1 in /home/gabibs/.pyenv/versions/3.6.6/lib/python3.6/site-packages (from matplotlib~=2.0->rasa-nlu==0.13.5->-r requirements.txt (line 7)) (1.0.1)\n",
      "Requirement already satisfied: jmespath<1.0.0,>=0.7.1 in /home/gabibs/.pyenv/versions/3.6.6/lib/python3.6/site-packages (from boto3->rasa-nlu==0.13.5->-r requirements.txt (line 7)) (0.9.3)\n",
      "Requirement already satisfied: botocore<1.13.0,>=1.12.30 in /home/gabibs/.pyenv/versions/3.6.6/lib/python3.6/site-packages (from boto3->rasa-nlu==0.13.5->-r requirements.txt (line 7)) (1.12.30)\n",
      "Requirement already satisfied: s3transfer<0.2.0,>=0.1.10 in /home/gabibs/.pyenv/versions/3.6.6/lib/python3.6/site-packages (from boto3->rasa-nlu==0.13.5->-r requirements.txt (line 7)) (0.1.13)\n",
      "Requirement already satisfied: incremental in /home/gabibs/.pyenv/versions/3.6.6/lib/python3.6/site-packages (from klein->rasa-nlu==0.13.5->-r requirements.txt (line 7)) (17.5.0)\n",
      "Requirement already satisfied: Twisted>=15.5 in /home/gabibs/.pyenv/versions/3.6.6/lib/python3.6/site-packages (from klein->rasa-nlu==0.13.5->-r requirements.txt (line 7)) (18.9.0)\n"
     ]
    },
    {
     "name": "stdout",
     "output_type": "stream",
     "text": [
      "Requirement already satisfied: markdown>=2.6.8 in /home/gabibs/.pyenv/versions/3.6.6/lib/python3.6/site-packages (from tensorboard<1.11.0,>=1.10.0->tensorflow==1.10.0->rasa-core==0.11.12->-r requirements.txt (line 5)) (3.0.1)\n",
      "Requirement already satisfied: wcwidth in /home/gabibs/.pyenv/versions/3.6.6/lib/python3.6/site-packages (from prompt-toolkit==1.0.14->PyInquirer~=1.0->rasa-core==0.11.12->-r requirements.txt (line 5)) (0.1.7)\n",
      "Requirement already satisfied: MarkupSafe>=0.23 in /home/gabibs/.pyenv/versions/3.6.6/lib/python3.6/site-packages (from Jinja2>=2.10->flask~=1.0->rasa-core==0.11.12->-r requirements.txt (line 5)) (1.0)\n",
      "Requirement already satisfied: docutils>=0.10 in /home/gabibs/.pyenv/versions/3.6.6/lib/python3.6/site-packages (from botocore<1.13.0,>=1.12.30->boto3->rasa-nlu==0.13.5->-r requirements.txt (line 7)) (0.14)\n",
      "Requirement already satisfied: constantly>=15.1 in /home/gabibs/.pyenv/versions/3.6.6/lib/python3.6/site-packages (from Twisted>=15.5->klein->rasa-nlu==0.13.5->-r requirements.txt (line 7)) (15.1.0)\n",
      "Requirement already satisfied: Automat>=0.3.0 in /home/gabibs/.pyenv/versions/3.6.6/lib/python3.6/site-packages (from Twisted>=15.5->klein->rasa-nlu==0.13.5->-r requirements.txt (line 7)) (0.7.0)\n",
      "Requirement already satisfied: hyperlink>=17.1.1 in /home/gabibs/.pyenv/versions/3.6.6/lib/python3.6/site-packages (from Twisted>=15.5->klein->rasa-nlu==0.13.5->-r requirements.txt (line 7)) (18.0.0)\n",
      "Requirement already satisfied: PyHamcrest>=1.9.0 in /home/gabibs/.pyenv/versions/3.6.6/lib/python3.6/site-packages (from Twisted>=15.5->klein->rasa-nlu==0.13.5->-r requirements.txt (line 7)) (1.9.0)\n",
      "Requirement already satisfied: attrs>=17.4.0 in /home/gabibs/.pyenv/versions/3.6.6/lib/python3.6/site-packages (from Twisted>=15.5->klein->rasa-nlu==0.13.5->-r requirements.txt (line 7)) (18.2.0)\n",
      "\u001b[31mjupyter-console 6.0.0 has requirement prompt-toolkit<2.1.0,>=2.0.0, but you'll have prompt-toolkit 1.0.14 which is incompatible.\u001b[0m\n",
      "\u001b[31mipython 7.1.1 has requirement prompt-toolkit<2.1.0,>=2.0.0, but you'll have prompt-toolkit 1.0.14 which is incompatible.\u001b[0m\n",
      "Installing collected packages: prompt-toolkit\n",
      "  Found existing installation: prompt-toolkit 2.0.7\n",
      "    Uninstalling prompt-toolkit-2.0.7:\n",
      "      Successfully uninstalled prompt-toolkit-2.0.7\n",
      "Successfully installed prompt-toolkit-1.0.14\n"
     ]
    }
   ],
   "source": [
    "import sys\n",
    "python = sys.executable\n",
    "\n",
    "# In your environment run:\n",
    "!{python} -m pip install -r requirements.txt\n"
   ]
  },
  {
   "cell_type": "markdown",
   "metadata": {},
   "source": [
    "Verificando versões:"
   ]
  },
  {
   "cell_type": "code",
   "execution_count": 3,
   "metadata": {},
   "outputs": [
    {
     "name": "stdout",
     "output_type": "stream",
     "text": [
      "rasa_nlu: 0.13.5 rasa_core: 0.11.12\n"
     ]
    }
   ],
   "source": [
    "import rasa_nlu\n",
    "import rasa_core\n",
    "\n",
    "print(\"rasa_nlu: {} rasa_core: {}\".format(rasa_nlu.__version__, rasa_core.__version__))\n"
   ]
  },
  {
   "cell_type": "markdown",
   "metadata": {},
   "source": [
    "### Outras ferramentas necessárias\n",
    "Para algumas visualizações é necessário graphviz."
   ]
  },
  {
   "cell_type": "markdown",
   "metadata": {},
   "source": [
    "Instalando:"
   ]
  },
  {
   "cell_type": "code",
   "execution_count": 4,
   "metadata": {},
   "outputs": [
    {
     "name": "stdout",
     "output_type": "stream",
     "text": [
      "Requirement already satisfied: graphviz in /home/gabibs/.pyenv/versions/3.6.6/lib/python3.6/site-packages (0.9)\r\n"
     ]
    }
   ],
   "source": [
    "!{python} -m pip install graphviz;"
   ]
  },
  {
   "cell_type": "markdown",
   "metadata": {
    "colab_type": "text",
    "id": "tK5os3OinphP"
   },
   "source": [
    "# Análise das Stories"
   ]
  },
  {
   "cell_type": "markdown",
   "metadata": {
    "colab_type": "text",
    "id": "qWALQbCdwGxK"
   },
   "source": [
    "### Imagens de Fluxo\n",
    "\n",
    "Gerando os arquivos de imagem para a visualização do fluxo das histórias. A célula abaixo gera uma imagem para cada arquivo de stories. \n"
   ]
  },
  {
   "cell_type": "code",
   "execution_count": 9,
   "metadata": {
    "colab": {
     "autoexec": {
      "startup": false,
      "wait_interval": 0
     },
     "base_uri": "https://localhost:8080/",
     "height": 895
    },
    "colab_type": "code",
    "executionInfo": {
     "elapsed": 2808,
     "status": "ok",
     "timestamp": 1521380138202,
     "user": {
      "displayName": "Alexander Weidauer",
      "photoUrl": "//lh6.googleusercontent.com/-j4xnI5_PFWA/AAAAAAAAAAI/AAAAAAAAAAo/wPT2w5Bl3xg/s50-c-k-no/photo.jpg",
      "userId": "100444450157165144272"
     },
     "user_tz": -60
    },
    "id": "zl6vtV72BDaV",
    "outputId": "2468f1bf-3fd0-42f0-9338-8f48c8cad3dd",
    "scrolled": false
   },
   "outputs": [
    {
     "name": "stderr",
     "output_type": "stream",
     "text": [
      "Processed Story Blocks: 100%|██████████| 73/73 [00:01<00:00, 38.54it/s, # trackers=1]\n",
      "Processed Story Blocks: 100%|██████████| 16/16 [00:00<00:00, 40.72it/s, # trackers=1]\n",
      "Processed Story Blocks: 100%|██████████| 2/2 [00:00<00:00, 95.74it/s, # trackers=1]\n",
      "Processed Story Blocks: 100%|██████████| 8/8 [00:00<00:00, 34.86it/s, # trackers=1]\n",
      "Processed Story Blocks: 100%|██████████| 15/15 [00:00<00:00, 46.57it/s, # trackers=1]\n",
      "Processed Story Blocks: 100%|██████████| 11/11 [00:00<00:00, 34.04it/s, # trackers=1]\n"
     ]
    },
    {
     "name": "stdout",
     "output_type": "stream",
     "text": [
      "Imagens salvas\n"
     ]
    }
   ],
   "source": [
    "from IPython.display import Image\n",
    "from rasa_core.agent import Agent\n",
    "\n",
    "from os import listdir\n",
    "from os.path import isfile, join\n",
    "\n",
    "\n",
    "agent = Agent('../../bot/domain.yml')\n",
    "\n",
    "# Adds all stories files in a list\n",
    "stories_files = [f for f in listdir(\"../../bot/data/stories\") if isfile(join(\"../../bot/data/stories\", f))]\n",
    "\n",
    "# Generate the image for each file\n",
    "for file in stories_files:\n",
    "    agent.visualize('../../bot/data/stories/' + file,\n",
    "                    './img/story_graph_' + file[:-3] + '.png',\n",
    "                    max_history = 2)\n",
    "\n",
    "print(\"Imagens salvas\")"
   ]
  },
  {
   "cell_type": "markdown",
   "metadata": {
    "colab_type": "text",
    "id": "zQxY6m6kvlj3"
   },
   "source": [
    "### Treinando modelo de dialogo"
   ]
  },
  {
   "cell_type": "code",
   "execution_count": 3,
   "metadata": {
    "colab": {
     "autoexec": {
      "startup": false,
      "wait_interval": 0
     },
     "base_uri": "https://localhost:8080/",
     "height": 14025
    },
    "colab_type": "code",
    "executionInfo": {
     "elapsed": 12554,
     "status": "ok",
     "timestamp": 1521575068686,
     "user": {
      "displayName": "Ricardo Wölker",
      "photoUrl": "https://lh3.googleusercontent.com/a/default-user=s128",
      "userId": "115384113157413623365"
     },
     "user_tz": 0
    },
    "id": "PKV49d7tAxmS",
    "outputId": "ccb26bea-5be8-48f7-a88e-d70a6e4a1733"
   },
   "outputs": [
    {
     "name": "stderr",
     "output_type": "stream",
     "text": [
      "Processed Story Blocks: 100%|██████████| 125/125 [00:00<00:00, 366.33it/s, # trackers=1]\n",
      "Processed Story Blocks: 100%|██████████| 125/125 [00:01<00:00, 78.21it/s, # trackers=20]\n",
      "Processed Story Blocks: 100%|██████████| 125/125 [00:01<00:00, 80.24it/s, # trackers=19]\n",
      "Processed Story Blocks: 100%|██████████| 125/125 [00:01<00:00, 68.75it/s, # trackers=19]\n",
      "Processed actions: 15219it [00:32, 463.93it/s, # examples=15031]\n",
      "INFO:rasa_core.policies.keras_policy:Fitting model with 15219 total samples and a validation split of 0.0\n"
     ]
    },
    {
     "name": "stdout",
     "output_type": "stream",
     "text": [
      "_________________________________________________________________\n",
      "Layer (type)                 Output Shape              Param #   \n",
      "=================================================================\n",
      "masking (Masking)            (None, 5, 259)            0         \n",
      "_________________________________________________________________\n",
      "lstm (LSTM)                  (None, 32)                37376     \n",
      "_________________________________________________________________\n",
      "dense (Dense)                (None, 125)               4125      \n",
      "_________________________________________________________________\n",
      "activation (Activation)      (None, 125)               0         \n",
      "=================================================================\n",
      "Total params: 41,501\n",
      "Trainable params: 41,501\n",
      "Non-trainable params: 0\n",
      "_________________________________________________________________\n",
      "Epoch 1/130\n",
      "15219/15219 [==============================] - 5s 344us/step - loss: 3.0492 - acc: 0.3611\n",
      "Epoch 2/130\n",
      "15219/15219 [==============================] - 4s 290us/step - loss: 2.3451 - acc: 0.5153\n",
      "Epoch 3/130\n",
      "15219/15219 [==============================] - 5s 310us/step - loss: 1.8085 - acc: 0.5625\n",
      "Epoch 4/130\n",
      "15219/15219 [==============================] - 5s 313us/step - loss: 1.5522 - acc: 0.6328\n",
      "Epoch 5/130\n",
      "15219/15219 [==============================] - 5s 300us/step - loss: 1.3211 - acc: 0.7309\n",
      "Epoch 6/130\n",
      "15219/15219 [==============================] - 5s 319us/step - loss: 1.1026 - acc: 0.8152\n",
      "Epoch 7/130\n",
      "15219/15219 [==============================] - 4s 292us/step - loss: 0.9209 - acc: 0.8692\n",
      "Epoch 8/130\n",
      "15219/15219 [==============================] - 5s 313us/step - loss: 0.7424 - acc: 0.9066\n",
      "Epoch 9/130\n",
      "15219/15219 [==============================] - 5s 325us/step - loss: 0.6006 - acc: 0.9282\n",
      "Epoch 10/130\n",
      "15219/15219 [==============================] - 5s 319us/step - loss: 0.4789 - acc: 0.9441\n",
      "Epoch 11/130\n",
      "15219/15219 [==============================] - 5s 356us/step - loss: 0.3985 - acc: 0.9564\n",
      "Epoch 12/130\n",
      "15219/15219 [==============================] - 5s 342us/step - loss: 0.3315 - acc: 0.9593\n",
      "Epoch 13/130\n",
      "15219/15219 [==============================] - 5s 322us/step - loss: 0.2773 - acc: 0.9644\n",
      "Epoch 14/130\n",
      "15219/15219 [==============================] - 5s 324us/step - loss: 0.2262 - acc: 0.9694\n",
      "Epoch 15/130\n",
      "15219/15219 [==============================] - 5s 331us/step - loss: 0.2007 - acc: 0.9680\n",
      "Epoch 16/130\n",
      "15219/15219 [==============================] - 5s 322us/step - loss: 0.1783 - acc: 0.9710\n",
      "Epoch 17/130\n",
      "15219/15219 [==============================] - 4s 278us/step - loss: 0.1540 - acc: 0.9736\n",
      "Epoch 18/130\n",
      "15219/15219 [==============================] - 5s 312us/step - loss: 0.1420 - acc: 0.9734\n",
      "Epoch 19/130\n",
      "15219/15219 [==============================] - 5s 317us/step - loss: 0.1297 - acc: 0.9737\n",
      "Epoch 20/130\n",
      "15219/15219 [==============================] - 5s 334us/step - loss: 0.1171 - acc: 0.9760\n",
      "Epoch 21/130\n",
      "15219/15219 [==============================] - 5s 360us/step - loss: 0.1159 - acc: 0.9727\n",
      "Epoch 22/130\n",
      "15219/15219 [==============================] - 5s 345us/step - loss: 0.1065 - acc: 0.9756\n",
      "Epoch 23/130\n",
      "15219/15219 [==============================] - 5s 308us/step - loss: 0.1061 - acc: 0.9757\n",
      "Epoch 24/130\n",
      "15219/15219 [==============================] - 4s 245us/step - loss: 0.0993 - acc: 0.9761\n",
      "Epoch 25/130\n",
      "15219/15219 [==============================] - 6s 368us/step - loss: 0.0963 - acc: 0.9771\n",
      "Epoch 26/130\n",
      "15219/15219 [==============================] - 4s 230us/step - loss: 0.0954 - acc: 0.9775\n",
      "Epoch 27/130\n",
      "15219/15219 [==============================] - 4s 250us/step - loss: 0.0822 - acc: 0.9784\n",
      "Epoch 28/130\n",
      "15219/15219 [==============================] - 3s 226us/step - loss: 0.0869 - acc: 0.9775\n",
      "Epoch 29/130\n",
      "15219/15219 [==============================] - 3s 226us/step - loss: 0.0877 - acc: 0.9763\n",
      "Epoch 30/130\n",
      "15219/15219 [==============================] - 4s 245us/step - loss: 0.0826 - acc: 0.9789\n",
      "Epoch 31/130\n",
      "15219/15219 [==============================] - 3s 221us/step - loss: 0.0800 - acc: 0.9788\n",
      "Epoch 32/130\n",
      "15219/15219 [==============================] - 4s 235us/step - loss: 0.0783 - acc: 0.9796\n",
      "Epoch 33/130\n",
      "15219/15219 [==============================] - 4s 256us/step - loss: 0.0719 - acc: 0.9800\n",
      "Epoch 34/130\n",
      "15219/15219 [==============================] - 4s 244us/step - loss: 0.0815 - acc: 0.9771\n",
      "Epoch 35/130\n",
      "15219/15219 [==============================] - 4s 255us/step - loss: 0.0754 - acc: 0.9799\n",
      "Epoch 36/130\n",
      "15219/15219 [==============================] - 4s 278us/step - loss: 0.0764 - acc: 0.9793\n",
      "Epoch 37/130\n",
      "15219/15219 [==============================] - 4s 275us/step - loss: 0.0776 - acc: 0.9789\n",
      "Epoch 38/130\n",
      "15219/15219 [==============================] - 4s 286us/step - loss: 0.0774 - acc: 0.9798\n",
      "Epoch 39/130\n",
      "15219/15219 [==============================] - 4s 286us/step - loss: 0.0798 - acc: 0.9781\n",
      "Epoch 40/130\n",
      "15219/15219 [==============================] - 4s 245us/step - loss: 0.0729 - acc: 0.9805\n",
      "Epoch 41/130\n",
      "15219/15219 [==============================] - 4s 232us/step - loss: 0.0750 - acc: 0.9794\n",
      "Epoch 42/130\n",
      "15219/15219 [==============================] - 4s 248us/step - loss: 0.0778 - acc: 0.9793\n",
      "Epoch 43/130\n",
      "15219/15219 [==============================] - 4s 233us/step - loss: 0.0720 - acc: 0.9808\n",
      "Epoch 44/130\n",
      "15219/15219 [==============================] - 4s 258us/step - loss: 0.0737 - acc: 0.9790\n",
      "Epoch 45/130\n",
      "15219/15219 [==============================] - 6s 381us/step - loss: 0.0714 - acc: 0.9796\n",
      "Epoch 46/130\n",
      "15219/15219 [==============================] - 6s 361us/step - loss: 0.0688 - acc: 0.9806\n",
      "Epoch 47/130\n",
      "15219/15219 [==============================] - 5s 341us/step - loss: 0.0727 - acc: 0.9800\n",
      "Epoch 48/130\n",
      "15219/15219 [==============================] - 5s 321us/step - loss: 0.0672 - acc: 0.9806\n",
      "Epoch 49/130\n",
      "15219/15219 [==============================] - 5s 310us/step - loss: 0.0659 - acc: 0.9809\n",
      "Epoch 50/130\n",
      "15219/15219 [==============================] - 5s 300us/step - loss: 0.0758 - acc: 0.9786\n",
      "Epoch 51/130\n",
      "15219/15219 [==============================] - 4s 289us/step - loss: 0.0673 - acc: 0.9802\n",
      "Epoch 52/130\n",
      "15219/15219 [==============================] - 4s 289us/step - loss: 0.0640 - acc: 0.9809\n",
      "Epoch 53/130\n",
      "15219/15219 [==============================] - 5s 299us/step - loss: 0.0657 - acc: 0.9808\n",
      "Epoch 54/130\n",
      "15219/15219 [==============================] - 4s 290us/step - loss: 0.0624 - acc: 0.9815\n",
      "Epoch 55/130\n",
      "15219/15219 [==============================] - 4s 294us/step - loss: 0.0662 - acc: 0.9818\n",
      "Epoch 56/130\n",
      "15219/15219 [==============================] - 4s 289us/step - loss: 0.0718 - acc: 0.9782\n",
      "Epoch 57/130\n",
      "15219/15219 [==============================] - 4s 295us/step - loss: 0.0610 - acc: 0.9815\n",
      "Epoch 58/130\n",
      "15219/15219 [==============================] - 5s 303us/step - loss: 0.0627 - acc: 0.9824\n",
      "Epoch 59/130\n",
      "15219/15219 [==============================] - 17s 1ms/step - loss: 0.0605 - acc: 0.9820\n",
      "Epoch 60/130\n",
      "15219/15219 [==============================] - 33s 2ms/step - loss: 0.0607 - acc: 0.9820\n",
      "Epoch 61/130\n",
      "15219/15219 [==============================] - 34s 2ms/step - loss: 0.0692 - acc: 0.9796\n",
      "Epoch 62/130\n",
      "15219/15219 [==============================] - 33s 2ms/step - loss: 0.0631 - acc: 0.9810\n",
      "Epoch 63/130\n",
      "15219/15219 [==============================] - 33s 2ms/step - loss: 0.0592 - acc: 0.9821\n",
      "Epoch 64/130\n",
      "15219/15219 [==============================] - 33s 2ms/step - loss: 0.0623 - acc: 0.9809\n",
      "Epoch 65/130\n",
      "15219/15219 [==============================] - 34s 2ms/step - loss: 0.0589 - acc: 0.9827\n",
      "Epoch 66/130\n",
      "15219/15219 [==============================] - 35s 2ms/step - loss: 0.0680 - acc: 0.9805\n",
      "Epoch 67/130\n",
      "15219/15219 [==============================] - 34s 2ms/step - loss: 0.0597 - acc: 0.9820\n",
      "Epoch 68/130\n",
      "15219/15219 [==============================] - 33s 2ms/step - loss: 0.0542 - acc: 0.9832\n",
      "Epoch 69/130\n",
      "15219/15219 [==============================] - 35s 2ms/step - loss: 0.0636 - acc: 0.9807\n",
      "Epoch 70/130\n",
      "15219/15219 [==============================] - 34s 2ms/step - loss: 0.0660 - acc: 0.9806\n",
      "Epoch 71/130\n",
      "15219/15219 [==============================] - 35s 2ms/step - loss: 0.0621 - acc: 0.9816\n",
      "Epoch 72/130\n"
     ]
    },
    {
     "name": "stdout",
     "output_type": "stream",
     "text": [
      "15219/15219 [==============================] - 34s 2ms/step - loss: 0.0601 - acc: 0.9818\n",
      "Epoch 73/130\n",
      "15219/15219 [==============================] - 31s 2ms/step - loss: 0.0581 - acc: 0.9832\n",
      "Epoch 74/130\n",
      "15219/15219 [==============================] - 31s 2ms/step - loss: 0.0622 - acc: 0.9800: 1s - los\n",
      "Epoch 75/130\n",
      "15219/15219 [==============================] - 35s 2ms/step - loss: 0.0607 - acc: 0.9818\n",
      "Epoch 76/130\n",
      "15219/15219 [==============================] - 34s 2ms/step - loss: 0.0579 - acc: 0.9826\n",
      "Epoch 77/130\n",
      "15219/15219 [==============================] - 33s 2ms/step - loss: 0.0619 - acc: 0.9810\n",
      "Epoch 78/130\n",
      "15219/15219 [==============================] - 34s 2ms/step - loss: 0.0538 - acc: 0.9830\n",
      "Epoch 79/130\n",
      "15219/15219 [==============================] - 35s 2ms/step - loss: 0.0542 - acc: 0.9820\n",
      "Epoch 80/130\n",
      "15219/15219 [==============================] - 38s 3ms/step - loss: 0.0607 - acc: 0.9814\n",
      "Epoch 81/130\n",
      "15219/15219 [==============================] - 35s 2ms/step - loss: 0.0492 - acc: 0.9838\n",
      "Epoch 82/130\n",
      "15219/15219 [==============================] - 22s 1ms/step - loss: 0.0572 - acc: 0.9818\n",
      "Epoch 83/130\n",
      "15219/15219 [==============================] - 18s 1ms/step - loss: 0.0470 - acc: 0.9840\n",
      "Epoch 84/130\n",
      "15219/15219 [==============================] - 18s 1ms/step - loss: 0.0531 - acc: 0.9830\n",
      "Epoch 85/130\n",
      "15219/15219 [==============================] - 22s 1ms/step - loss: 0.0552 - acc: 0.9823\n",
      "Epoch 86/130\n",
      "15219/15219 [==============================] - 21s 1ms/step - loss: 0.0632 - acc: 0.9803\n",
      "Epoch 87/130\n",
      "15219/15219 [==============================] - 36s 2ms/step - loss: 0.0540 - acc: 0.9826\n",
      "Epoch 88/130\n",
      "15219/15219 [==============================] - 35s 2ms/step - loss: 0.0577 - acc: 0.9818\n",
      "Epoch 89/130\n",
      "15219/15219 [==============================] - 33s 2ms/step - loss: 0.0527 - acc: 0.9827\n",
      "Epoch 90/130\n",
      "15219/15219 [==============================] - 34s 2ms/step - loss: 0.0582 - acc: 0.9819\n",
      "Epoch 91/130\n",
      "15219/15219 [==============================] - 35s 2ms/step - loss: 0.0565 - acc: 0.9810\n",
      "Epoch 92/130\n",
      "15219/15219 [==============================] - 35s 2ms/step - loss: 0.0513 - acc: 0.9832\n",
      "Epoch 93/130\n",
      "15219/15219 [==============================] - 34s 2ms/step - loss: 0.0557 - acc: 0.9821\n",
      "Epoch 94/130\n",
      "15219/15219 [==============================] - 36s 2ms/step - loss: 0.0514 - acc: 0.9835\n",
      "Epoch 95/130\n",
      "15219/15219 [==============================] - 27s 2ms/step - loss: 0.0555 - acc: 0.9817\n",
      "Epoch 96/130\n",
      "15219/15219 [==============================] - 27s 2ms/step - loss: 0.0486 - acc: 0.9844\n",
      "Epoch 97/130\n",
      "15219/15219 [==============================] - 36s 2ms/step - loss: 0.0506 - acc: 0.9835\n",
      "Epoch 98/130\n",
      "15219/15219 [==============================] - 37s 2ms/step - loss: 0.0501 - acc: 0.9842\n",
      "Epoch 99/130\n",
      "15219/15219 [==============================] - 36s 2ms/step - loss: 0.0539 - acc: 0.9825\n",
      "Epoch 100/130\n",
      "15219/15219 [==============================] - 40s 3ms/step - loss: 0.0561 - acc: 0.9824\n",
      "Epoch 101/130\n",
      "15219/15219 [==============================] - 39s 3ms/step - loss: 0.0504 - acc: 0.9836\n",
      "Epoch 102/130\n",
      "15219/15219 [==============================] - 36s 2ms/step - loss: 0.0551 - acc: 0.9819\n",
      "Epoch 103/130\n",
      "15219/15219 [==============================] - 32s 2ms/step - loss: 0.0480 - acc: 0.9841\n",
      "Epoch 104/130\n",
      "15219/15219 [==============================] - 34s 2ms/step - loss: 0.0520 - acc: 0.9833\n",
      "Epoch 105/130\n",
      "15219/15219 [==============================] - 34s 2ms/step - loss: 0.0473 - acc: 0.9836\n",
      "Epoch 106/130\n",
      "15219/15219 [==============================] - 33s 2ms/step - loss: 0.0501 - acc: 0.9836\n",
      "Epoch 107/130\n",
      "15219/15219 [==============================] - 35s 2ms/step - loss: 0.0494 - acc: 0.9845\n",
      "Epoch 108/130\n",
      "15219/15219 [==============================] - 38s 3ms/step - loss: 0.0502 - acc: 0.9844\n",
      "Epoch 109/130\n",
      "15219/15219 [==============================] - 37s 2ms/step - loss: 0.0470 - acc: 0.9833\n",
      "Epoch 110/130\n",
      "15219/15219 [==============================] - 37s 2ms/step - loss: 0.0501 - acc: 0.9835\n",
      "Epoch 111/130\n",
      "15219/15219 [==============================] - 38s 3ms/step - loss: 0.0479 - acc: 0.9837\n",
      "Epoch 112/130\n",
      "15219/15219 [==============================] - 37s 2ms/step - loss: 0.0472 - acc: 0.9848\n",
      "Epoch 113/130\n",
      "15219/15219 [==============================] - 39s 3ms/step - loss: 0.0475 - acc: 0.9851\n",
      "Epoch 114/130\n",
      "15219/15219 [==============================] - 38s 2ms/step - loss: 0.0531 - acc: 0.9827\n",
      "Epoch 115/130\n",
      "15219/15219 [==============================] - 37s 2ms/step - loss: 0.0506 - acc: 0.9836\n",
      "Epoch 116/130\n",
      "15219/15219 [==============================] - 36s 2ms/step - loss: 0.0469 - acc: 0.9850\n",
      "Epoch 117/130\n",
      "15219/15219 [==============================] - 36s 2ms/step - loss: 0.0456 - acc: 0.9842\n",
      "Epoch 118/130\n",
      "15219/15219 [==============================] - 36s 2ms/step - loss: 0.0475 - acc: 0.9839\n",
      "Epoch 119/130\n",
      "15219/15219 [==============================] - 37s 2ms/step - loss: 0.0507 - acc: 0.9834\n",
      "Epoch 120/130\n",
      "15219/15219 [==============================] - 38s 2ms/step - loss: 0.0473 - acc: 0.9851\n",
      "Epoch 121/130\n",
      "15219/15219 [==============================] - 36s 2ms/step - loss: 0.0491 - acc: 0.9844\n",
      "Epoch 122/130\n",
      "15219/15219 [==============================] - 36s 2ms/step - loss: 0.0503 - acc: 0.9834\n",
      "Epoch 123/130\n",
      "15219/15219 [==============================] - 35s 2ms/step - loss: 0.0470 - acc: 0.9839\n",
      "Epoch 124/130\n",
      "15219/15219 [==============================] - 33s 2ms/step - loss: 0.0483 - acc: 0.9844\n",
      "Epoch 125/130\n",
      "15219/15219 [==============================] - 33s 2ms/step - loss: 0.0439 - acc: 0.9859\n",
      "Epoch 126/130\n",
      "15219/15219 [==============================] - 33s 2ms/step - loss: 0.0477 - acc: 0.9831\n",
      "Epoch 127/130\n",
      "15219/15219 [==============================] - 37s 2ms/step - loss: 0.0481 - acc: 0.9834\n",
      "Epoch 128/130\n",
      "15219/15219 [==============================] - 37s 2ms/step - loss: 0.0464 - acc: 0.9842\n",
      "Epoch 129/130\n",
      "15219/15219 [==============================] - 36s 2ms/step - loss: 0.0424 - acc: 0.9853\n",
      "Epoch 130/130\n",
      "15219/15219 [==============================] - 36s 2ms/step - loss: 0.0486 - acc: 0.9842\n"
     ]
    },
    {
     "name": "stderr",
     "output_type": "stream",
     "text": [
      "INFO:rasa_core.policies.keras_policy:Done fitting keras policy model\n",
      "INFO:rasa_core.agent:Model directory models/dialogue exists and contains old model files. All files will be overwritten.\n",
      "INFO:rasa_core.agent:Persisted model to '/home/gabibs/Documentos/lappis/tais/notebooks/stories/models/dialogue'\n"
     ]
    }
   ],
   "source": [
    "from rasa_core.policies import FallbackPolicy, KerasPolicy, MemoizationPolicy\n",
    "from rasa_core.agent import Agent\n",
    "\n",
    "# this will catch predictions the model isn't very certain about\n",
    "# there is a threshold for the NLU predictions as well as the action predictions\n",
    "fallback = FallbackPolicy(fallback_action_name=\"utter_unclear\",\n",
    "                          core_threshold=0.2,\n",
    "                          nlu_threshold=0.6)\n",
    "\n",
    "agent = Agent('../../bot/domain.yml', policies=[MemoizationPolicy(), KerasPolicy(), fallback])\n",
    "\n",
    "# loading our neatly defined training dialogues\n",
    "training_data = agent.load_data('../../bot/data/stories')\n",
    "\n",
    "agent.train(\n",
    "    training_data,\n",
    "    validation_split=0.0,\n",
    "    epochs=130\n",
    ")\n",
    "\n",
    "agent.persist('models/dialogue')"
   ]
  },
  {
   "cell_type": "markdown",
   "metadata": {
    "colab_type": "text",
    "id": "FSjCEdvlzfSR"
   },
   "source": [
    "### Starting up the bot (with NLU)\n",
    "\n",
    "Now that we've trained the dialogue **and** language understanding models and saved them, we can start up an `Agent` which will handle conversations for us. "
   ]
  },
  {
   "cell_type": "code",
   "execution_count": 12,
   "metadata": {
    "colab": {
     "autoexec": {
      "startup": false,
      "wait_interval": 0
     },
     "base_uri": "https://localhost:8080/",
     "height": 34
    },
    "colab_type": "code",
    "executionInfo": {
     "elapsed": 1799,
     "status": "ok",
     "timestamp": 1521380071327,
     "user": {
      "displayName": "Alexander Weidauer",
      "photoUrl": "//lh6.googleusercontent.com/-j4xnI5_PFWA/AAAAAAAAAAI/AAAAAAAAAAo/wPT2w5Bl3xg/s50-c-k-no/photo.jpg",
      "userId": "100444450157165144272"
     },
     "user_tz": -60
    },
    "id": "Ywxs0ljHgkLm",
    "outputId": "e11a8abd-70f6-41c5-ccd1-a7cba7146ce9"
   },
   "outputs": [],
   "source": [
    "from rasa_core.agent import Agent\n",
    "agent = Agent.load('models/dialogue')"
   ]
  },
  {
   "cell_type": "markdown",
   "metadata": {},
   "source": [
    "### Evaluation of the dialogue model\n",
    "As with the NLU model, instead of just subjectively testing the model, we can also evaluate the model on a dataset. You'll be using the training data set again, but usually you'd use a test data set separate from the training data."
   ]
  },
  {
   "cell_type": "code",
   "execution_count": 28,
   "metadata": {},
   "outputs": [
    {
     "name": "stderr",
     "output_type": "stream",
     "text": [
      "Processed Story Blocks: 100%|██████████| 125/125 [00:03<00:00, 37.56it/s, # trackers=1]\n",
      "INFO:rasa_core.evaluate:Evaluating 120 stories\n",
      "Progress:\n",
      "  0%|          | 0/120 [00:00<?, ?it/s]\n"
     ]
    },
    {
     "ename": "Exception",
     "evalue": "BinarySingleStateFeaturizer was not prepared before encoding.",
     "output_type": "error",
     "traceback": [
      "\u001b[0;31m---------------------------------------------------------------------------\u001b[0m",
      "\u001b[0;31mException\u001b[0m                                 Traceback (most recent call last)",
      "\u001b[0;32m<ipython-input-28-e4d22379f7f5>\u001b[0m in \u001b[0;36m<module>\u001b[0;34m\u001b[0m\n\u001b[1;32m      6\u001b[0m \u001b[0;31m#                     out_file_plot=\"story_eval.pdf\")\u001b[0m\u001b[0;34m\u001b[0m\u001b[0;34m\u001b[0m\u001b[0m\n\u001b[1;32m      7\u001b[0m \u001b[0;34m\u001b[0m\u001b[0m\n\u001b[0;32m----> 8\u001b[0;31m \u001b[0mrun_story_evaluation\u001b[0m\u001b[0;34m(\u001b[0m\u001b[0;34m\"../../bot/data/stories\"\u001b[0m\u001b[0;34m,\u001b[0m \u001b[0magent\u001b[0m\u001b[0;34m,\u001b[0m \u001b[0;36m2\u001b[0m\u001b[0;34m,\u001b[0m \u001b[0;34m\"story_eval.pdf\"\u001b[0m\u001b[0;34m,\u001b[0m \u001b[0;34m\"plot_eval.pdf\"\u001b[0m\u001b[0;34m,\u001b[0m \u001b[0;32mTrue\u001b[0m\u001b[0;34m)\u001b[0m\u001b[0;34m\u001b[0m\u001b[0m\n\u001b[0m",
      "\u001b[0;32m~/.pyenv/versions/3.6.6/lib/python3.6/site-packages/rasa_core/evaluate.py\u001b[0m in \u001b[0;36mrun_story_evaluation\u001b[0;34m(resource_name, agent, max_stories, out_file_stories, out_file_plot, fail_on_prediction_errors)\u001b[0m\n\u001b[1;32m    203\u001b[0m \u001b[0;34m\u001b[0m\u001b[0m\n\u001b[1;32m    204\u001b[0m     test_y, predictions, failed = collect_story_predictions(\n\u001b[0;32m--> 205\u001b[0;31m             completed_trackers, agent, fail_on_prediction_errors)\n\u001b[0m\u001b[1;32m    206\u001b[0m     \u001b[0;32mif\u001b[0m \u001b[0mout_file_plot\u001b[0m\u001b[0;34m:\u001b[0m\u001b[0;34m\u001b[0m\u001b[0m\n\u001b[1;32m    207\u001b[0m         \u001b[0mplot_story_evaluation\u001b[0m\u001b[0;34m(\u001b[0m\u001b[0mtest_y\u001b[0m\u001b[0;34m,\u001b[0m \u001b[0mpredictions\u001b[0m\u001b[0;34m,\u001b[0m \u001b[0mout_file_plot\u001b[0m\u001b[0;34m)\u001b[0m\u001b[0;34m\u001b[0m\u001b[0m\n",
      "\u001b[0;32m~/.pyenv/versions/3.6.6/lib/python3.6/site-packages/rasa_core/evaluate.py\u001b[0m in \u001b[0;36mcollect_story_predictions\u001b[0;34m(completed_trackers, agent, fail_on_prediction_errors)\u001b[0m\n\u001b[1;32m    157\u001b[0m     \u001b[0;32mfor\u001b[0m \u001b[0mtracker\u001b[0m \u001b[0;32min\u001b[0m \u001b[0mtqdm\u001b[0m\u001b[0;34m(\u001b[0m\u001b[0mcompleted_trackers\u001b[0m\u001b[0;34m)\u001b[0m\u001b[0;34m:\u001b[0m\u001b[0;34m\u001b[0m\u001b[0m\n\u001b[1;32m    158\u001b[0m         \u001b[0mcurrent_golds\u001b[0m\u001b[0;34m,\u001b[0m \u001b[0mcurrent_predictions\u001b[0m\u001b[0;34m,\u001b[0m \u001b[0mpredicted_tracker\u001b[0m \u001b[0;34m=\u001b[0m\u001b[0;31m \u001b[0m\u001b[0;31m\\\u001b[0m\u001b[0;34m\u001b[0m\u001b[0m\n\u001b[0;32m--> 159\u001b[0;31m             \u001b[0m_predict_tracker_actions\u001b[0m\u001b[0;34m(\u001b[0m\u001b[0mtracker\u001b[0m\u001b[0;34m,\u001b[0m \u001b[0magent\u001b[0m\u001b[0;34m,\u001b[0m \u001b[0mfail_on_prediction_errors\u001b[0m\u001b[0;34m)\u001b[0m\u001b[0;34m\u001b[0m\u001b[0m\n\u001b[0m\u001b[1;32m    160\u001b[0m \u001b[0;34m\u001b[0m\u001b[0m\n\u001b[1;32m    161\u001b[0m         \u001b[0mpredictions\u001b[0m\u001b[0;34m.\u001b[0m\u001b[0mextend\u001b[0m\u001b[0;34m(\u001b[0m\u001b[0mcurrent_predictions\u001b[0m\u001b[0;34m)\u001b[0m\u001b[0;34m\u001b[0m\u001b[0m\n",
      "\u001b[0;32m~/.pyenv/versions/3.6.6/lib/python3.6/site-packages/rasa_core/evaluate.py\u001b[0m in \u001b[0;36m_predict_tracker_actions\u001b[0;34m(tracker, agent, fail_on_prediction_errors)\u001b[0m\n\u001b[1;32m    120\u001b[0m     \u001b[0;32mfor\u001b[0m \u001b[0mevent\u001b[0m \u001b[0;32min\u001b[0m \u001b[0mevents\u001b[0m\u001b[0;34m[\u001b[0m\u001b[0;36m1\u001b[0m\u001b[0;34m:\u001b[0m\u001b[0;34m]\u001b[0m\u001b[0;34m:\u001b[0m\u001b[0;34m\u001b[0m\u001b[0m\n\u001b[1;32m    121\u001b[0m         \u001b[0;32mif\u001b[0m \u001b[0misinstance\u001b[0m\u001b[0;34m(\u001b[0m\u001b[0mevent\u001b[0m\u001b[0;34m,\u001b[0m \u001b[0mActionExecuted\u001b[0m\u001b[0;34m)\u001b[0m\u001b[0;34m:\u001b[0m\u001b[0;34m\u001b[0m\u001b[0m\n\u001b[0;32m--> 122\u001b[0;31m             \u001b[0maction\u001b[0m\u001b[0;34m,\u001b[0m \u001b[0m_\u001b[0m\u001b[0;34m,\u001b[0m \u001b[0m_\u001b[0m \u001b[0;34m=\u001b[0m \u001b[0mprocessor\u001b[0m\u001b[0;34m.\u001b[0m\u001b[0mpredict_next_action\u001b[0m\u001b[0;34m(\u001b[0m\u001b[0mpartial_tracker\u001b[0m\u001b[0;34m)\u001b[0m\u001b[0;34m\u001b[0m\u001b[0m\n\u001b[0m\u001b[1;32m    123\u001b[0m \u001b[0;34m\u001b[0m\u001b[0m\n\u001b[1;32m    124\u001b[0m             \u001b[0mpredicted\u001b[0m \u001b[0;34m=\u001b[0m \u001b[0maction\u001b[0m\u001b[0;34m.\u001b[0m\u001b[0mname\u001b[0m\u001b[0;34m(\u001b[0m\u001b[0;34m)\u001b[0m\u001b[0;34m\u001b[0m\u001b[0m\n",
      "\u001b[0;32m~/.pyenv/versions/3.6.6/lib/python3.6/site-packages/rasa_core/processor.py\u001b[0m in \u001b[0;36mpredict_next_action\u001b[0;34m(self, tracker)\u001b[0m\n\u001b[1;32m    153\u001b[0m         ML to predict the action. Returns the index of the next action.\"\"\"\n\u001b[1;32m    154\u001b[0m \u001b[0;34m\u001b[0m\u001b[0m\n\u001b[0;32m--> 155\u001b[0;31m         \u001b[0mprobabilities\u001b[0m\u001b[0;34m,\u001b[0m \u001b[0mpolicy\u001b[0m \u001b[0;34m=\u001b[0m \u001b[0mself\u001b[0m\u001b[0;34m.\u001b[0m\u001b[0m_get_next_action_probabilities\u001b[0m\u001b[0;34m(\u001b[0m\u001b[0mtracker\u001b[0m\u001b[0;34m)\u001b[0m\u001b[0;34m\u001b[0m\u001b[0m\n\u001b[0m\u001b[1;32m    156\u001b[0m \u001b[0;34m\u001b[0m\u001b[0m\n\u001b[1;32m    157\u001b[0m         \u001b[0mmax_index\u001b[0m \u001b[0;34m=\u001b[0m \u001b[0mint\u001b[0m\u001b[0;34m(\u001b[0m\u001b[0mnp\u001b[0m\u001b[0;34m.\u001b[0m\u001b[0margmax\u001b[0m\u001b[0;34m(\u001b[0m\u001b[0mprobabilities\u001b[0m\u001b[0;34m)\u001b[0m\u001b[0;34m)\u001b[0m\u001b[0;34m\u001b[0m\u001b[0m\n",
      "\u001b[0;32m~/.pyenv/versions/3.6.6/lib/python3.6/site-packages/rasa_core/processor.py\u001b[0m in \u001b[0;36m_get_next_action_probabilities\u001b[0;34m(self, tracker)\u001b[0m\n\u001b[1;32m    455\u001b[0m             \u001b[0;32mreturn\u001b[0m \u001b[0mself\u001b[0m\u001b[0;34m.\u001b[0m\u001b[0m_prob_array_for_action\u001b[0m\u001b[0;34m(\u001b[0m\u001b[0mACTION_RESTART_NAME\u001b[0m\u001b[0;34m)\u001b[0m\u001b[0;34m\u001b[0m\u001b[0m\n\u001b[1;32m    456\u001b[0m         return self.policy_ensemble.probabilities_using_best_policy(\n\u001b[0;32m--> 457\u001b[0;31m                 tracker, self.domain)\n\u001b[0m",
      "\u001b[0;32m~/.pyenv/versions/3.6.6/lib/python3.6/site-packages/rasa_core/policies/ensemble.py\u001b[0m in \u001b[0;36mprobabilities_using_best_policy\u001b[0;34m(self, tracker, domain)\u001b[0m\n\u001b[1;32m    214\u001b[0m         \u001b[0mbest_policy_name\u001b[0m \u001b[0;34m=\u001b[0m \u001b[0;32mNone\u001b[0m\u001b[0;34m\u001b[0m\u001b[0m\n\u001b[1;32m    215\u001b[0m         \u001b[0;32mfor\u001b[0m \u001b[0mi\u001b[0m\u001b[0;34m,\u001b[0m \u001b[0mp\u001b[0m \u001b[0;32min\u001b[0m \u001b[0menumerate\u001b[0m\u001b[0;34m(\u001b[0m\u001b[0mself\u001b[0m\u001b[0;34m.\u001b[0m\u001b[0mpolicies\u001b[0m\u001b[0;34m)\u001b[0m\u001b[0;34m:\u001b[0m\u001b[0;34m\u001b[0m\u001b[0m\n\u001b[0;32m--> 216\u001b[0;31m             \u001b[0mprobabilities\u001b[0m \u001b[0;34m=\u001b[0m \u001b[0mp\u001b[0m\u001b[0;34m.\u001b[0m\u001b[0mpredict_action_probabilities\u001b[0m\u001b[0;34m(\u001b[0m\u001b[0mtracker\u001b[0m\u001b[0;34m,\u001b[0m \u001b[0mdomain\u001b[0m\u001b[0;34m)\u001b[0m\u001b[0;34m\u001b[0m\u001b[0m\n\u001b[0m\u001b[1;32m    217\u001b[0m             \u001b[0mconfidence\u001b[0m \u001b[0;34m=\u001b[0m \u001b[0mnp\u001b[0m\u001b[0;34m.\u001b[0m\u001b[0mmax\u001b[0m\u001b[0;34m(\u001b[0m\u001b[0mprobabilities\u001b[0m\u001b[0;34m)\u001b[0m\u001b[0;34m\u001b[0m\u001b[0m\n\u001b[1;32m    218\u001b[0m             \u001b[0;32mif\u001b[0m \u001b[0mconfidence\u001b[0m \u001b[0;34m>\u001b[0m \u001b[0mmax_confidence\u001b[0m\u001b[0;34m:\u001b[0m\u001b[0;34m\u001b[0m\u001b[0m\n",
      "\u001b[0;32m~/.pyenv/versions/3.6.6/lib/python3.6/site-packages/rasa_core/policies/keras_policy.py\u001b[0m in \u001b[0;36mpredict_action_probabilities\u001b[0;34m(self, tracker, domain)\u001b[0m\n\u001b[1;32m    189\u001b[0m \u001b[0;34m\u001b[0m\u001b[0m\n\u001b[1;32m    190\u001b[0m         \u001b[0;31m# noinspection PyPep8Naming\u001b[0m\u001b[0;34m\u001b[0m\u001b[0;34m\u001b[0m\u001b[0m\n\u001b[0;32m--> 191\u001b[0;31m         \u001b[0mX\u001b[0m \u001b[0;34m=\u001b[0m \u001b[0mself\u001b[0m\u001b[0;34m.\u001b[0m\u001b[0mfeaturizer\u001b[0m\u001b[0;34m.\u001b[0m\u001b[0mcreate_X\u001b[0m\u001b[0;34m(\u001b[0m\u001b[0;34m[\u001b[0m\u001b[0mtracker\u001b[0m\u001b[0;34m]\u001b[0m\u001b[0;34m,\u001b[0m \u001b[0mdomain\u001b[0m\u001b[0;34m)\u001b[0m\u001b[0;34m\u001b[0m\u001b[0m\n\u001b[0m\u001b[1;32m    192\u001b[0m \u001b[0;34m\u001b[0m\u001b[0m\n\u001b[1;32m    193\u001b[0m         \u001b[0;32mwith\u001b[0m \u001b[0mself\u001b[0m\u001b[0;34m.\u001b[0m\u001b[0mgraph\u001b[0m\u001b[0;34m.\u001b[0m\u001b[0mas_default\u001b[0m\u001b[0;34m(\u001b[0m\u001b[0;34m)\u001b[0m\u001b[0;34m,\u001b[0m \u001b[0mself\u001b[0m\u001b[0;34m.\u001b[0m\u001b[0msession\u001b[0m\u001b[0;34m.\u001b[0m\u001b[0mas_default\u001b[0m\u001b[0;34m(\u001b[0m\u001b[0;34m)\u001b[0m\u001b[0;34m:\u001b[0m\u001b[0;34m\u001b[0m\u001b[0m\n",
      "\u001b[0;32m~/.pyenv/versions/3.6.6/lib/python3.6/site-packages/rasa_core/featurizers.py\u001b[0m in \u001b[0;36mcreate_X\u001b[0;34m(self, trackers, domain)\u001b[0m\n\u001b[1;32m    425\u001b[0m \u001b[0;34m\u001b[0m\u001b[0m\n\u001b[1;32m    426\u001b[0m         \u001b[0mtrackers_as_states\u001b[0m \u001b[0;34m=\u001b[0m \u001b[0mself\u001b[0m\u001b[0;34m.\u001b[0m\u001b[0mprediction_states\u001b[0m\u001b[0;34m(\u001b[0m\u001b[0mtrackers\u001b[0m\u001b[0;34m,\u001b[0m \u001b[0mdomain\u001b[0m\u001b[0;34m)\u001b[0m\u001b[0;34m\u001b[0m\u001b[0m\n\u001b[0;32m--> 427\u001b[0;31m         \u001b[0mX\u001b[0m\u001b[0;34m,\u001b[0m \u001b[0m_\u001b[0m \u001b[0;34m=\u001b[0m \u001b[0mself\u001b[0m\u001b[0;34m.\u001b[0m\u001b[0m_featurize_states\u001b[0m\u001b[0;34m(\u001b[0m\u001b[0mtrackers_as_states\u001b[0m\u001b[0;34m)\u001b[0m\u001b[0;34m\u001b[0m\u001b[0m\n\u001b[0m\u001b[1;32m    428\u001b[0m         \u001b[0;32mreturn\u001b[0m \u001b[0mX\u001b[0m\u001b[0;34m\u001b[0m\u001b[0m\n\u001b[1;32m    429\u001b[0m \u001b[0;34m\u001b[0m\u001b[0m\n",
      "\u001b[0;32m~/.pyenv/versions/3.6.6/lib/python3.6/site-packages/rasa_core/featurizers.py\u001b[0m in \u001b[0;36m_featurize_states\u001b[0;34m(self, trackers_as_states)\u001b[0m\n\u001b[1;32m    344\u001b[0m \u001b[0;34m\u001b[0m\u001b[0m\n\u001b[1;32m    345\u001b[0m             story_features = [self.state_featurizer.encode(state)\n\u001b[0;32m--> 346\u001b[0;31m                               for state in tracker_states]\n\u001b[0m\u001b[1;32m    347\u001b[0m \u001b[0;34m\u001b[0m\u001b[0m\n\u001b[1;32m    348\u001b[0m             \u001b[0mfeatures\u001b[0m\u001b[0;34m.\u001b[0m\u001b[0mappend\u001b[0m\u001b[0;34m(\u001b[0m\u001b[0mstory_features\u001b[0m\u001b[0;34m)\u001b[0m\u001b[0;34m\u001b[0m\u001b[0m\n",
      "\u001b[0;32m~/.pyenv/versions/3.6.6/lib/python3.6/site-packages/rasa_core/featurizers.py\u001b[0m in \u001b[0;36m<listcomp>\u001b[0;34m(.0)\u001b[0m\n\u001b[1;32m    344\u001b[0m \u001b[0;34m\u001b[0m\u001b[0m\n\u001b[1;32m    345\u001b[0m             story_features = [self.state_featurizer.encode(state)\n\u001b[0;32m--> 346\u001b[0;31m                               for state in tracker_states]\n\u001b[0m\u001b[1;32m    347\u001b[0m \u001b[0;34m\u001b[0m\u001b[0m\n\u001b[1;32m    348\u001b[0m             \u001b[0mfeatures\u001b[0m\u001b[0;34m.\u001b[0m\u001b[0mappend\u001b[0m\u001b[0;34m(\u001b[0m\u001b[0mstory_features\u001b[0m\u001b[0;34m)\u001b[0m\u001b[0;34m\u001b[0m\u001b[0m\n",
      "\u001b[0;32m~/.pyenv/versions/3.6.6/lib/python3.6/site-packages/rasa_core/featurizers.py\u001b[0m in \u001b[0;36mencode\u001b[0;34m(self, state)\u001b[0m\n\u001b[1;32m    114\u001b[0m \u001b[0;34m\u001b[0m\u001b[0m\n\u001b[1;32m    115\u001b[0m         \u001b[0;32mif\u001b[0m \u001b[0;32mnot\u001b[0m \u001b[0mself\u001b[0m\u001b[0;34m.\u001b[0m\u001b[0mnum_features\u001b[0m\u001b[0;34m:\u001b[0m\u001b[0;34m\u001b[0m\u001b[0m\n\u001b[0;32m--> 116\u001b[0;31m             raise Exception(\"BinarySingleStateFeaturizer \"\n\u001b[0m\u001b[1;32m    117\u001b[0m                             \u001b[0;34m\"was not prepared \"\u001b[0m\u001b[0;34m\u001b[0m\u001b[0m\n\u001b[1;32m    118\u001b[0m                             \"before encoding.\")\n",
      "\u001b[0;31mException\u001b[0m: BinarySingleStateFeaturizer was not prepared before encoding."
     ]
    }
   ],
   "source": [
    "from rasa_core.evaluate import run_story_evaluation\n",
    "\n",
    "#run_story_evaluation(\"../../bot/data/stories\", \"models/dialogue\", \n",
    "#                     nlu_model_path=None, \n",
    "#                     max_stories=None, \n",
    "#                     out_file_plot=\"story_eval.pdf\")\n",
    "\n",
    "run_story_evaluation(\"../../bot/data/stories\", agent, 2, \"story_eval.pdf\", \"plot_eval.pdf\", True)"
   ]
  },
  {
   "cell_type": "code",
   "execution_count": null,
   "metadata": {},
   "outputs": [],
   "source": []
  }
 ],
 "metadata": {
  "colab": {
   "collapsed_sections": [
    "y4miuS-TqYcn",
    "BBF6Nqi9scQE",
    "Fs3nOUzBsqrG",
    "5MnGuFRpzzBh"
   ],
   "default_view": {},
   "name": "Building a Simple Bot with Rasa Stack - Tutorial",
   "provenance": [
    {
     "file_id": "1GutDkDXmfU-nRzNH7Pxxx8YpdvLUw9LO",
     "timestamp": 1521183725373
    }
   ],
   "toc_visible": true,
   "version": "0.3.2",
   "views": {}
  },
  "kernelspec": {
   "display_name": "Python 3",
   "language": "python",
   "name": "python3"
  },
  "language_info": {
   "codemirror_mode": {
    "name": "ipython",
    "version": 3
   },
   "file_extension": ".py",
   "mimetype": "text/x-python",
   "name": "python",
   "nbconvert_exporter": "python",
   "pygments_lexer": "ipython3",
   "version": "3.6.6"
  }
 },
 "nbformat": 4,
 "nbformat_minor": 1
}
