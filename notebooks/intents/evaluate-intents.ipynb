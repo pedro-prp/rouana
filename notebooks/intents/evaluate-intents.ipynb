{
 "cells": [
  {
   "cell_type": "markdown",
   "metadata": {
    "colab_type": "text",
    "id": "kO9wt2g3okLS"
   },
   "source": [
    "# Analisando o bot\n",
    "\n",
    "Este jupyter-notebook vai auxiliar na análise de um RASA bot."
   ]
  },
  {
   "cell_type": "markdown",
   "metadata": {},
   "source": [
    "## Instalação\n",
    "\n",
    "### Configurando jupyter"
   ]
  },
  {
   "cell_type": "code",
   "execution_count": 1,
   "metadata": {
    "scrolled": true
   },
   "outputs": [],
   "source": [
    "%matplotlib inline\n",
    "\n",
    "import logging, io, json, warnings\n",
    "logging.basicConfig(level=\"INFO\")\n",
    "warnings.filterwarnings('ignore')\n",
    "\n",
    "def pprint(o):\n",
    "    # small helper to make dict dumps a bit prettier\n",
    "    print(json.dumps(o, indent=2))"
   ]
  },
  {
   "cell_type": "markdown",
   "metadata": {
    "colab_type": "text",
    "id": "y4miuS-TqYcn"
   },
   "source": [
    "### Instalação do Rasa\n"
   ]
  },
  {
   "cell_type": "markdown",
   "metadata": {},
   "source": [
    "Verificando versões:"
   ]
  },
  {
   "cell_type": "code",
   "execution_count": 2,
   "metadata": {
    "scrolled": true
   },
   "outputs": [
    {
     "name": "stdout",
     "output_type": "stream",
     "text": [
      "rasa_nlu: 0.12.3\n",
      "Loading spaCy language model...\n",
      "Olá Mundo!\n"
     ]
    }
   ],
   "source": [
    "import rasa_nlu\n",
    "import spacy\n",
    "\n",
    "print(\"rasa_nlu: {}\".format(rasa_nlu.__version__))\n",
    "print(\"Loading spaCy language model...\")\n",
    "print(spacy.load(\"pt\")(\"Olá Mundo!\"))"
   ]
  },
  {
   "cell_type": "markdown",
   "metadata": {
    "colab_type": "text",
    "id": "1xeXgpdwzOAl"
   },
   "source": [
    "### Treinando o modelo do Rasa NLU"
   ]
  },
  {
   "cell_type": "markdown",
   "metadata": {},
   "source": [
    "Na celula abaixo todas as intents na pasta `../data/intents/` serão utilizadas para gerar os gráficos de avaliação do bot.\n",
    "\n",
    "Ela irá treinar o modelo e executar a avaliação que pode ser verificada na saída da célula abaixo."
   ]
  },
  {
   "cell_type": "code",
   "execution_count": 3,
   "metadata": {
    "colab": {
     "autoexec": {
      "startup": false,
      "wait_interval": 0
     },
     "base_uri": "https://localhost:8080/",
     "height": 377
    },
    "colab_type": "code",
    "executionInfo": {
     "elapsed": 2821,
     "status": "ok",
     "timestamp": 1521380062879,
     "user": {
      "displayName": "Alexander Weidauer",
      "photoUrl": "//lh6.googleusercontent.com/-j4xnI5_PFWA/AAAAAAAAAAI/AAAAAAAAAAo/wPT2w5Bl3xg/s50-c-k-no/photo.jpg",
      "userId": "100444450157165144272"
     },
     "user_tz": -60
    },
    "id": "qHsAH49OePcM",
    "outputId": "f840c42d-acf2-4fbf-b439-e5a239ffb32b",
    "scrolled": true
   },
   "outputs": [
    {
     "ename": "FileNotFoundError",
     "evalue": "[Errno 2] No such file or directory: '../bot/data/intents/'",
     "output_type": "error",
     "traceback": [
      "\u001b[0;31m---------------------------------------------------------------------------\u001b[0m",
      "\u001b[0;31mFileNotFoundError\u001b[0m                         Traceback (most recent call last)",
      "\u001b[0;32m<ipython-input-3-3be29233fa0b>\u001b[0m in \u001b[0;36m<module>\u001b[0;34m\u001b[0m\n\u001b[1;32m     10\u001b[0m \u001b[0mintents\u001b[0m \u001b[0;34m=\u001b[0m \u001b[0;34m{\u001b[0m\u001b[0;34m}\u001b[0m\u001b[0;34m\u001b[0m\u001b[0m\n\u001b[1;32m     11\u001b[0m \u001b[0;34m\u001b[0m\u001b[0m\n\u001b[0;32m---> 12\u001b[0;31m \u001b[0;32mfor\u001b[0m \u001b[0mintent_file\u001b[0m \u001b[0;32min\u001b[0m \u001b[0mos\u001b[0m\u001b[0;34m.\u001b[0m\u001b[0mlistdir\u001b[0m\u001b[0;34m(\u001b[0m\u001b[0mintents_directory\u001b[0m\u001b[0;34m)\u001b[0m\u001b[0;34m:\u001b[0m\u001b[0;34m\u001b[0m\u001b[0m\n\u001b[0m\u001b[1;32m     13\u001b[0m     \u001b[0mintent_file_path\u001b[0m \u001b[0;34m=\u001b[0m \u001b[0mos\u001b[0m\u001b[0;34m.\u001b[0m\u001b[0mpath\u001b[0m\u001b[0;34m.\u001b[0m\u001b[0mjoin\u001b[0m\u001b[0;34m(\u001b[0m\u001b[0mintents_directory\u001b[0m\u001b[0;34m,\u001b[0m \u001b[0mintent_file\u001b[0m\u001b[0;34m)\u001b[0m\u001b[0;34m\u001b[0m\u001b[0m\n\u001b[1;32m     14\u001b[0m \u001b[0;34m\u001b[0m\u001b[0m\n",
      "\u001b[0;31mFileNotFoundError\u001b[0m: [Errno 2] No such file or directory: '../bot/data/intents/'"
     ]
    }
   ],
   "source": [
    "import os\n",
    "\n",
    "from rasa_nlu.training_data import load_data\n",
    "from rasa_nlu.model import Trainer\n",
    "from rasa_nlu import config\n",
    "\n",
    "\n",
    "intents_directory = '../../bot/data/intents/'\n",
    "\n",
    "intents = {}\n",
    "\n",
    "for intent_file in os.listdir(intents_directory):\n",
    "    intent_file_path = os.path.join(intents_directory, intent_file)\n",
    "\n",
    "    intents[intent_file] = {}\n",
    "\n",
    "    intent_list = []\n",
    "    intent_name = None\n",
    "\n",
    "    with open(intent_file_path) as f:\n",
    "        lines = f.readlines()\n",
    "\n",
    "        for line in lines:\n",
    "            line = line.strip()\n",
    "\n",
    "            if line.startswith('##'):\n",
    "                if intent_name is not None:\n",
    "                    intents[intent_file][intent_name] = intent_list\n",
    "                intent_name = line.replace('## intent:', '') \n",
    "                intent_list = []\n",
    "\n",
    "            elif line.startswith('- '):\n",
    "                intent_list.append(line.replace('- ', ''))\n",
    "\n",
    "\n",
    "# loading the nlu training samples\n",
    "training_data = load_data(intents_directory)\n",
    "\n",
    "# trainer to educate our pipeline\n",
    "trainer = Trainer(config.load(\"../../bot/nlu_config.yml\"))\n",
    "\n",
    "# train the model!\n",
    "interpreter = trainer.train(training_data)\n",
    "\n",
    "# store it for future use\n",
    "model_directory = trainer.persist(\"./models/nlu\", fixed_model_name=\"current\")\n",
    "\n",
    "from rasa_nlu.evaluate import run_evaluation\n",
    "run_evaluation('../../bot/data/intents/', model_directory)"
   ]
  },
  {
   "cell_type": "markdown",
   "metadata": {
    "colab_type": "text",
    "id": "1xeXgpdwzOAl"
   },
   "source": [
    "### Avaliação do modelo de NLU treinado\n",
    "\n",
    "`Caso queira testar mensagens específicas mande a mensagem na célula seguinte`\n",
    "\n",
    "Quando quiser parar o teste diga **pare**"
   ]
  },
  {
   "cell_type": "code",
   "execution_count": 5,
   "metadata": {},
   "outputs": [
    {
     "name": "stdout",
     "output_type": "stream",
     "text": [
      "{\n",
      "  \"intent\": {\n",
      "    \"name\": \"curiosidades_captacao_de_recursos\",\n",
      "    \"confidence\": 0.9602228403091431\n",
      "  },\n",
      "  \"entities\": [],\n",
      "  \"intent_ranking\": [\n",
      "    {\n",
      "      \"name\": \"curiosidades_captacao_de_recursos\",\n",
      "      \"confidence\": 0.9602228403091431\n",
      "    },\n",
      "    {\n",
      "      \"name\": \"afirmar_curiosidades\",\n",
      "      \"confidence\": 0.09013605117797852\n",
      "    },\n",
      "    {\n",
      "      \"name\": \"curiosidades_deducao_imposto_de_renda_incentivador\",\n",
      "      \"confidence\": 0.052063263952732086\n",
      "    },\n",
      "    {\n",
      "      \"name\": \"processo_periodo\",\n",
      "      \"confidence\": 0.0518600270152092\n",
      "    },\n",
      "    {\n",
      "      \"name\": \"curiosidades_valor_maximo_geral\",\n",
      "      \"confidence\": 0.04678261652588844\n",
      "    },\n",
      "    {\n",
      "      \"name\": \"negar\",\n",
      "      \"confidence\": 0.041245631873607635\n",
      "    },\n",
      "    {\n",
      "      \"name\": \"curiosidades_elegibilidade_de_empresa_para_beneficios\",\n",
      "      \"confidence\": 0.030568117275834084\n",
      "    },\n",
      "    {\n",
      "      \"name\": \"curiosidades_valor_maximo_pessoa_fisica\",\n",
      "      \"confidence\": 0.020352115854620934\n",
      "    },\n",
      "    {\n",
      "      \"name\": \"afirmar\",\n",
      "      \"confidence\": 0.016223512589931488\n",
      "    },\n",
      "    {\n",
      "      \"name\": \"curiosidades_lei_rouanet_denuncia\",\n",
      "      \"confidence\": 0.013430479913949966\n",
      "    }\n",
      "  ],\n",
      "  \"text\": \"posso terceirizar a capta\\u00e7\\u00e3o de recursos?\"\n",
      "}\n"
     ]
    }
   ],
   "source": [
    "pprint(interpreter.parse('posso terceirizar a captação de recursos?'))"
   ]
  },
  {
   "cell_type": "code",
   "execution_count": null,
   "metadata": {},
   "outputs": [],
   "source": []
  }
 ],
 "metadata": {
  "colab": {
   "collapsed_sections": [
    "y4miuS-TqYcn",
    "BBF6Nqi9scQE",
    "Fs3nOUzBsqrG",
    "5MnGuFRpzzBh"
   ],
   "default_view": {},
   "name": "Building a Simple Bot with Rasa Stack - Tutorial",
   "provenance": [
    {
     "file_id": "1GutDkDXmfU-nRzNH7Pxxx8YpdvLUw9LO",
     "timestamp": 1521183725373
    }
   ],
   "toc_visible": true,
   "version": "0.3.2",
   "views": {}
  },
  "kernelspec": {
   "display_name": "Python 3",
   "language": "python",
   "name": "python3"
  },
  "language_info": {
   "codemirror_mode": {
    "name": "ipython",
    "version": 3
   },
   "file_extension": ".py",
   "mimetype": "text/x-python",
   "name": "python",
   "nbconvert_exporter": "python",
   "pygments_lexer": "ipython3",
   "version": "3.6.6"
  }
 },
 "nbformat": 4,
 "nbformat_minor": 1
}
